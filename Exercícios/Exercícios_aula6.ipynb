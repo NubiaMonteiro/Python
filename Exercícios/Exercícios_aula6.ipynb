{
  "nbformat": 4,
  "nbformat_minor": 0,
  "metadata": {
    "colab": {
      "name": "Exercícios_aula6.ipynb",
      "provenance": [],
      "authorship_tag": "ABX9TyOV+9h4Wqh3I9KiTWcZTXy7",
      "include_colab_link": true
    },
    "kernelspec": {
      "name": "python3",
      "display_name": "Python 3"
    },
    "language_info": {
      "name": "python"
    }
  },
  "cells": [
    {
      "cell_type": "markdown",
      "metadata": {
        "id": "view-in-github",
        "colab_type": "text"
      },
      "source": [
        "<a href=\"https://colab.research.google.com/github/NubiaMonteiro/Python/blob/main/Exerc%C3%ADcios/Exerc%C3%ADcios_aula6.ipynb\" target=\"_parent\"><img src=\"https://colab.research.google.com/assets/colab-badge.svg\" alt=\"Open In Colab\"/></a>"
      ]
    },
    {
      "cell_type": "markdown",
      "metadata": {
        "id": "93gbyAOdcmBV"
      },
      "source": [
        "### Exercícios\n",
        "\n",
        "1. Considere o seguinte script:"
      ]
    },
    {
      "cell_type": "code",
      "metadata": {
        "id": "KvrczFyycks7"
      },
      "source": [
        "import turtle\n",
        "\n",
        "def draw_bar(t, height):\n",
        "    \"\"\" Get turtle t to draw one bar, of height. \"\"\"\n",
        "    t.left(90)\n",
        "    t.forward(height)\n",
        "    t.right(90)\n",
        "    t.forward(40)\n",
        "    t.right(90)\n",
        "    t.forward(height)\n",
        "    t.left(90)\n",
        "    t.forward(10)\n",
        "    #t.leftt(90)\n",
        "\n",
        "tess = turtle.Turtle() #instanciação\n",
        "jn = turtle.Screen()\n",
        "\n",
        "tess.color(\"blue\")\n",
        "jn.bgcolor(\"white\")\n",
        "tess.penup() #levantar a caneta\n",
        "tess.goto(-200,-150) #mudar posicao de inicio \n",
        "tess.pendown() #abaixar a caneta\n",
        "\n",
        "xs = [48,117,200,240,160,260,220]\n",
        "\n",
        "for a in xs:\n",
        "    draw_bar(tess, a)"
      ],
      "execution_count": null,
      "outputs": []
    },
    {
      "cell_type": "markdown",
      "metadata": {
        "id": "zoxy-EuVcslH"
      },
      "source": [
        "1) Modifique-o para que o resultado seja um **histograma**, como o mostrado na figura abaixo.\n",
        "Amplie seu script para que seja possível passar ao programa dados (frequência), com o valor do bin (classe de frequência) e cores determinados pelo usuário.\n",
        "\n",
        "\n",
        "Adicione declarações condicionais à função para casos passíveis de gerar erros, como por exemplo, se alguma variável do argumento da função não for definida.\n",
        "\n",
        "***Exemplo***: Generalize sua função para tomar como argumento uma lista que contenha as frequências do histograma e verifique que o argumento realmente é uma lista. Caso não seja, imprima uma mensagem de erro.\n",
        "\n",
        "![](https://raw.githubusercontent.com/malbouis/Python_intro/master/aulas_2019/pics/histo.png)\n"
      ]
    },
    {
      "cell_type": "code",
      "metadata": {
        "id": "gmHViXkfcsFn"
      },
      "source": [
        "#código para o programa igual ao do exemplo\n",
        "import turtle\n",
        "\n",
        "def draw_bar(t, height):\n",
        "    \"\"\" Get turtle t to draw one bar, of height. \"\"\"\n",
        "    t.color('blue')\n",
        "    t.left(90)\n",
        "    t.forward(height)\n",
        "    t.right(90)\n",
        "    for xs in range(7):\n",
        "      t.write(a, False, \"left\", \"normal\")\n",
        "    t.forward(40)\n",
        "    t.right(90)\n",
        "    t.forward(height)\n",
        "    t.left(90)\n",
        "    t.fillcolor(\"red\")\n",
        "    #t.leftt(90)\n",
        "\n",
        "tess = turtle.Turtle() #instanciação\n",
        "jn = turtle.Screen()\n",
        "\n",
        "\n",
        "jn.bgcolor(\"pink\") #cor de fundo rosa\n",
        "tess.fillcolor(\"red\") #preenche as barras de vermelho\n",
        "tess.penup() #levantar a caneta\n",
        "tess.goto(-150,-150) #mudar posicao de inicio \n",
        "tess.pendown() #abaixar a caneta\n",
        "\n",
        "xs = [48,117,200,240,160,260,220]\n",
        "\n",
        "tess.begin_fill( )\n",
        "for a in xs:\n",
        "    draw_bar(tess, a)\n",
        "tess.end_fill( )"
      ],
      "execution_count": null,
      "outputs": []
    },
    {
      "cell_type": "code",
      "metadata": {
        "id": "FewPl4bFHoXx"
      },
      "source": [
        "#Codigo com  determinação do usuário\n",
        "import turtle\n",
        "\n",
        "x = input('escolha a cor dos números e das bordas:')\n",
        "y = input('escolha a cor das barras:')\n",
        "z = input('escolha a cor do fundo:')\n",
        "a = int(input('quantos dados tem sua lista?'))\n",
        "\n",
        "xs = [ ]\n",
        "\n",
        "for i in range(0,a):\n",
        "  b = int(input(\"Escreva os dados: \"))\n",
        "  xs.append(b)\n",
        "\n",
        "def draw_bar(t, height):\n",
        "    t.color(x)\n",
        "    t.left(90)\n",
        "    t.forward(height)\n",
        "    t.right(90)\n",
        "    for xs in range(7):\n",
        "      t.write(a, False, \"left\", \"normal\")\n",
        "    t.forward(40)\n",
        "    t.right(90)\n",
        "    t.forward(height)\n",
        "    t.left(90)\n",
        "    t.fillcolor(y)\n",
        "    #t.leftt(90)\n",
        "\n",
        "tess = turtle.Turtle() #instanciação\n",
        "jn = turtle.Screen()\n",
        "\n",
        "\n",
        "jn.bgcolor(z) #cor de fundo rosa\n",
        "tess.fillcolor(y) #preenche as barras de vermelho\n",
        "tess.penup() #levantar a caneta\n",
        "tess.goto(-150,-150) #mudar posicao de inicio \n",
        "tess.pendown() #abaixar a caneta\n",
        "\n",
        "\n",
        "tess.begin_fill( )\n",
        "for a in xs:\n",
        "    draw_bar(tess, a)\n",
        "tess.end_fill( )\n"
      ],
      "execution_count": null,
      "outputs": []
    },
    {
      "cell_type": "markdown",
      "metadata": {
        "id": "sAdaEN1Yc3j_"
      },
      "source": [
        "2) Repita o exercício 1) usando **Manipulação de exceção em Python** (pesquisem!!!!), com as cláusulas ```try``` e ```except```.  <=== **A ser apresentado em sala de aula**."
      ]
    },
    {
      "cell_type": "code",
      "metadata": {
        "id": "GRMhR2nzc8hp"
      },
      "source": [
        "import turtle\n",
        "\n",
        "x = input('escolha a cor dos números e das bordas:')\n",
        "y = input('escolha a cor das barras:')\n",
        "z = input('escolha a cor do fundo:')\n",
        "a = int(input('quantos dados tem sua lista?'))\n",
        "\n",
        "xs = [ ]\n",
        "\n",
        "#Manipulação de exceção\n",
        "while True:\n",
        "  try:\n",
        "    for i in range(0,a):\n",
        "      b = int(input(\"Escreva os dados: \"))\n",
        "      xs.append(b)\n",
        "    break\n",
        "  except ValueError:\n",
        "    print(\"Oops!  Esse nao é um dado não é valido. Tente de novo...\")\n",
        "  \n",
        "def draw_bar(t, height):\n",
        "    t.color(x)\n",
        "    t.left(90)\n",
        "    t.forward(height)\n",
        "    t.right(90)\n",
        "    for xs in range(7):\n",
        "      t.write(a, False, \"left\", \"normal\")\n",
        "    t.forward(40)\n",
        "    t.right(90)\n",
        "    t.forward(height)\n",
        "    t.left(90)\n",
        "    t.fillcolor(y)\n",
        "    #t.leftt(90)\n",
        "\n",
        "tess = turtle.Turtle() #instanciação\n",
        "jn = turtle.Screen()\n",
        "\n",
        "\n",
        "jn.bgcolor(z) #cor de fundo rosa\n",
        "tess.fillcolor(y) #preenche as barras de vermelho\n",
        "tess.penup() #levantar a caneta\n",
        "tess.goto(-150,-150) #mudar posicao de inicio \n",
        "tess.pendown() #abaixar a caneta\n",
        "\n",
        "\n",
        "tess.begin_fill( )\n",
        "for a in xs:\n",
        "    draw_bar(tess, a)\n",
        "tess.end_fill( )\n"
      ],
      "execution_count": null,
      "outputs": []
    },
    {
      "cell_type": "markdown",
      "metadata": {
        "id": "euWMgbMuc9DX"
      },
      "source": [
        "3) **Desafio**: Faça um programa equivalente ao do item 1., utilizando ***matplotlib*** e ***numpy*** ao invés de ***turtle***"
      ]
    },
    {
      "cell_type": "code",
      "metadata": {
        "id": "foJjRcKXdB7x",
        "colab": {
          "base_uri": "https://localhost:8080/",
          "height": 433
        },
        "outputId": "88fde105-c393-4684-cdbc-5de13adb2851"
      },
      "source": [
        "from numpy.core.records import array\n",
        "import matplotlib.pyplot as plt\n",
        "import numpy as np\n",
        "\n",
        "a = int(input('quantos dados tem sua lista? '))\n",
        "\n",
        "xs = [ ]\n",
        "xx = np.arange(1,a+1,1)\n",
        "\n",
        "#Manipulação de exceção\n",
        "while True:\n",
        "  try:\n",
        "    for i in range(0,a):\n",
        "      b = int(input(\"Escreva os dados: \"))\n",
        "      xs.append(b)\n",
        "    break\n",
        "  except ValueError:\n",
        "    print(\"Oops!  Esse nao é um dado não é valido. Tente de novo...\")\n",
        "  \n",
        "plt.bar(xx,xs)\n",
        "plt.title('Seu gráfico de barras')\n",
        "\n",
        "\n",
        "plt.tight_layout()\n"
      ],
      "execution_count": 36,
      "outputs": [
        {
          "name": "stdout",
          "output_type": "stream",
          "text": [
            "quantos dados tem sua lista? 7\n",
            "Escreva os dados: 48\n",
            "Escreva os dados: 117\n",
            "Escreva os dados: 200\n",
            "Escreva os dados: 240\n",
            "Escreva os dados: 160\n",
            "Escreva os dados: 260\n",
            "Escreva os dados: 220\n"
          ]
        },
        {
          "output_type": "display_data",
          "data": {
            "image/png": "[encoded data removed]",
            "text/plain": [
              "<Figure size 432x288 with 1 Axes>"
            ]
          },
          "metadata": {}
        }
      ]
    }
  ]
}