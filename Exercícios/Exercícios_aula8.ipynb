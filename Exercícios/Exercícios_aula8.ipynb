{
  "nbformat": 4,
  "nbformat_minor": 0,
  "metadata": {
    "colab": {
      "name": "Exercícios_aula8.ipynb",
      "provenance": [],
      "collapsed_sections": [],
      "authorship_tag": "ABX9TyN86mIvOSBJekLk1Ficat/s",
      "include_colab_link": true
    },
    "kernelspec": {
      "name": "python3",
      "display_name": "Python 3"
    },
    "language_info": {
      "name": "python"
    }
  },
  "cells": [
    {
      "cell_type": "markdown",
      "metadata": {
        "id": "view-in-github",
        "colab_type": "text"
      },
      "source": [
        "<a href=\"https://colab.research.google.com/github/NubiaMonteiro/Python/blob/main/Exerc%C3%ADcios/Exerc%C3%ADcios_aula8.ipynb\" target=\"_parent\"><img src=\"https://colab.research.google.com/assets/colab-badge.svg\" alt=\"Open In Colab\"/></a>"
      ]
    },
    {
      "cell_type": "markdown",
      "metadata": {
        "id": "lrndq7hJgU7O"
      },
      "source": [
        "## Exercícios: \n",
        "   1. Percorra toda a `string` \"banana\", utilizando as iterações\n",
        "apresentadas nas aulas anteriores, e imprima na tela uma letra por linha como se fosse em uma escada.\n",
        "\n"
      ]
    },
    {
      "cell_type": "code",
      "metadata": {
        "colab": {
          "base_uri": "https://localhost:8080/"
        },
        "id": "M2ziXA1fgJk1",
        "outputId": "e62add5a-5c99-4e4b-ae75-1f254c7fd1da"
      },
      "source": [
        "fruta = 'banana'\n",
        "s = ' '\n",
        "\n",
        "for i in range(6):\n",
        "  letra = fruta[i]\n",
        "  print(s*i, letra)"
      ],
      "execution_count": null,
      "outputs": [
        {
          "output_type": "stream",
          "name": "stdout",
          "text": [
            " b\n",
            "  a\n",
            "   n\n",
            "    a\n",
            "     n\n",
            "      a\n"
          ]
        }
      ]
    },
    {
      "cell_type": "markdown",
      "metadata": {
        "id": "FBGEwCCzgd1b"
      },
      "source": [
        "2. Escreva uma função que receba uma `string` como argumento e exiba as letras de trás para a frente, uma por linha.\n"
      ]
    },
    {
      "cell_type": "code",
      "metadata": {
        "colab": {
          "base_uri": "https://localhost:8080/"
        },
        "id": "pNBROwQmghS0",
        "outputId": "21bef203-a136-404b-db63-3711ce64ac1a"
      },
      "source": [
        "palavra = str(input('Escreva uma palavra:'))\n",
        "tamanho = (len(palavra))\n",
        "\n",
        "\n",
        "def string_(x, tamanho):\n",
        "  for i in range(tamanho-1, -1, -1):\n",
        "     letra = x[i]\n",
        "     print(letra)\n",
        "\n",
        "string_(palavra, tamanho)"
      ],
      "execution_count": null,
      "outputs": [
        {
          "output_type": "stream",
          "name": "stdout",
          "text": [
            "Escreva uma palavra:banana\n",
            "a\n",
            "n\n",
            "a\n",
            "n\n",
            "a\n",
            "b\n"
          ]
        }
      ]
    },
    {
      "cell_type": "markdown",
      "metadata": {
        "id": "sE7h9cgWsk6b"
      },
      "source": [
        "## Exercícios\n",
        "\n",
        "   1. Resolução numérica de equações diferenciais. Imagine que tem um/a maratonista treinando, que num trecho de $5 \\mathrm{km}$ tem velocidade quase constante de $12 \\mathrm{km/h}$. Produza uma lista com a  distância percorrida em intervalos de 1 minuto. "
      ]
    },
    {
      "cell_type": "code",
      "metadata": {
        "colab": {
          "base_uri": "https://localhost:8080/",
          "height": 337
        },
        "id": "Y4RldjQZsqC-",
        "outputId": "82f372b0-c738-44d8-c34f-595f88bc1307"
      },
      "source": [
        "import matplotlib.pyplot as plt\n",
        "\n",
        "lista = []\n",
        "v_min = 12/60 #Velocidade em km por minutos\n",
        "lista_tempo = list(range(0, 26, 1))\n",
        "\n",
        "for t in lista_tempo: #Ele demora 25 minutos para percorrer 5 km\n",
        "  x = v_min*t\n",
        "  lista.append(x)\n",
        "\n",
        "print(lista, 'km')\n",
        "print(lista_tempo)\n",
        "\n",
        "plt.plot(lista, lista_tempo)"
      ],
      "execution_count": 10,
      "outputs": [
        {
          "output_type": "stream",
          "name": "stdout",
          "text": [
            "[0.0, 0.2, 0.4, 0.6000000000000001, 0.8, 1.0, 1.2000000000000002, 1.4000000000000001, 1.6, 1.8, 2.0, 2.2, 2.4000000000000004, 2.6, 2.8000000000000003, 3.0, 3.2, 3.4000000000000004, 3.6, 3.8000000000000003, 4.0, 4.2, 4.4, 4.6000000000000005, 4.800000000000001, 5.0] km\n",
            "[0, 1, 2, 3, 4, 5, 6, 7, 8, 9, 10, 11, 12, 13, 14, 15, 16, 17, 18, 19, 20, 21, 22, 23, 24, 25]\n"
          ]
        },
        {
          "output_type": "execute_result",
          "data": {
            "text/plain": [
              "[<matplotlib.lines.Line2D at 0x7f70e42a1cd0>]"
            ]
          },
          "metadata": {},
          "execution_count": 10
        },
        {
          "output_type": "display_data",
          "data": {
            "image/png": "[encoded data removed]",
            "text/plain": [
              "<Figure size 432x288 with 1 Axes>"
            ]
          },
          "metadata": {
            "needs_background": "light"
          }
        }
      ]
    },
    {
      "cell_type": "markdown",
      "metadata": {
        "id": "Dk3VX6wnsqbP"
      },
      "source": [
        "2. O/A mesmo/a atleta no seguinte trecho acelera nos seguintes $200$ metros até chegar numa velocidade de $15 \\mathrm{km/h}$, e mantém esta velocidade por $1,8 \\mathrm{km}$. Queremos obter uma tabela ou gráfico da distância percorrida en função do tempo, e calcular e o tempo total para chegar em $7 \\mathrm{km}$, faça isto utilizando listas. \n"
      ]
    },
    {
      "cell_type": "code",
      "metadata": {
        "colab": {
          "base_uri": "https://localhost:8080/"
        },
        "id": "KjD6aKx-T8AS",
        "outputId": "d934f4f1-80e9-4752-a26a-60ca33103358"
      },
      "source": [
        "#Segundo momento\n",
        "a = (0.25**2 - 0.2**2)/0.4\n",
        "print('aceleração: ', a)\n",
        "t = (0.25 - 0.2)/a # o corredor demora 0.88 aproximadamente 1.22 minuto percorrendo 200 metros para chegar a 15 km/h\n",
        "print('tempo: ', t)\n",
        "s = 5.2\n",
        "t1 = 26.2222222222\n",
        "\n",
        "print(lista)\n",
        "print(lista_tempo)\n",
        "list(range(1, 12, 1))\n",
        "#terceiro momento\n",
        "\n",
        "lista2 = []\n",
        "v_min2 = 15/60 #Velocidade em km por minutos\n",
        "lista_tempo2 = [1.2222222222, 2.2222222222, 3.2222222222, 4.2222222222, 5.2222222222, 6.2222222222, 7.2222222222, 8.2222222222, 9.2222222222, 10.2222222222, 11.2222222222]\n",
        "lista_tempo3 = [27.2222222222, 28.2222222222, 29.2222222222, 30.2222222222, 31.2222222222, 32.2222222222, 33.2222222222, 34.2222222222, 35.2222222222, 36.2222222222, 37.2222222222]\n",
        "for t2 in lista_tempo2: #Ele demora 7.2 minutos para percorrer 1,8 km\n",
        "  x2 = v_min2*t2\n",
        "  lista2.append(x2+5.2)\n",
        "\n",
        "print(lista2)\n",
        "print(lista_tempo3)\n",
        "\n",
        "#Juntando as duas listas\n",
        "\n",
        "lista_final = lista + lista2\n",
        "lista_tempo_final = lista_tempo + lista_tempo3\n",
        "\n",
        "print(lista_final)\n",
        "print(lista_tempo_final)"
      ],
      "execution_count": 41,
      "outputs": [
        {
          "output_type": "stream",
          "name": "stdout",
          "text": [
            "aceleração:  0.05624999999999998\n",
            "tempo:  0.888888888888889\n",
            "[0.0, 0.2, 0.4, 0.6000000000000001, 0.8, 1.0, 1.2000000000000002, 1.4000000000000001, 1.6, 1.8, 2.0, 2.2, 2.4000000000000004, 2.6, 2.8000000000000003, 3.0, 3.2, 3.4000000000000004, 3.6, 3.8000000000000003, 4.0, 4.2, 4.4, 4.6000000000000005, 4.800000000000001, 5.0, 5.2]\n",
            "[0, 1, 2, 3, 4, 5, 6, 7, 8, 9, 10, 11, 12, 13, 14, 15, 16, 17, 18, 19, 20, 21, 22, 23, 24, 25, 26.2222222222]\n",
            "[5.50555555555, 5.75555555555, 6.00555555555, 6.25555555555, 6.50555555555, 6.75555555555, 7.00555555555, 7.25555555555, 7.50555555555, 7.75555555555, 8.00555555555]\n",
            "[27.2222222222, 28.2222222222, 29.2222222222, 30.2222222222, 31.2222222222, 32.2222222222, 33.2222222222, 34.2222222222, 35.2222222222, 36.2222222222, 37.2222222222]\n",
            "[0.0, 0.2, 0.4, 0.6000000000000001, 0.8, 1.0, 1.2000000000000002, 1.4000000000000001, 1.6, 1.8, 2.0, 2.2, 2.4000000000000004, 2.6, 2.8000000000000003, 3.0, 3.2, 3.4000000000000004, 3.6, 3.8000000000000003, 4.0, 4.2, 4.4, 4.6000000000000005, 4.800000000000001, 5.0, 5.2, 5.50555555555, 5.75555555555, 6.00555555555, 6.25555555555, 6.50555555555, 6.75555555555, 7.00555555555, 7.25555555555, 7.50555555555, 7.75555555555, 8.00555555555]\n",
            "[0, 1, 2, 3, 4, 5, 6, 7, 8, 9, 10, 11, 12, 13, 14, 15, 16, 17, 18, 19, 20, 21, 22, 23, 24, 25, 26.2222222222, 27.2222222222, 28.2222222222, 29.2222222222, 30.2222222222, 31.2222222222, 32.2222222222, 33.2222222222, 34.2222222222, 35.2222222222, 36.2222222222, 37.2222222222]\n"
          ]
        }
      ]
    },
    {
      "cell_type": "code",
      "metadata": {
        "colab": {
          "base_uri": "https://localhost:8080/",
          "height": 312
        },
        "id": "oOLrN8AtnGNj",
        "outputId": "72936c98-c2b3-4594-e6da-61441c7f5eb9"
      },
      "source": [
        "import matplotlib.pyplot as plt\n",
        "\n",
        "plt.plot(lista_final, lista_tempo_final)\n",
        "plt.ylabel(\"Tempo (min)\")\n",
        "plt.xlabel(\"Distância (km)\")\n",
        "plt.title(\"Gráfico do corredor\")\n"
      ],
      "execution_count": 42,
      "outputs": [
        {
          "output_type": "execute_result",
          "data": {
            "text/plain": [
              "Text(0.5, 1.0, 'Gráfico do corredor')"
            ]
          },
          "metadata": {},
          "execution_count": 42
        },
        {
          "output_type": "display_data",
          "data": {
            "image/png": "[encoded data removed]",
            "text/plain": [
              "<Figure size 432x288 with 1 Axes>"
            ]
          },
          "metadata": {
            "needs_background": "light"
          }
        }
      ]
    },
    {
      "cell_type": "markdown",
      "metadata": {
        "id": "3xsP1OQTst0g"
      },
      "source": [
        "3. Considere um péndulo simples num plano. O comprimento da linha é $1$ metro, a massa é $0,2 \\mathrm{kg}$ e a aceleração de gravidade $9,8 \\mathrm{m}/\\mathrm{s}^2$. Faça um gráfico ou crie uma tabela para a posição da massa em coordenadas cartesianas em função do tempo, utilizando listas."
      ]
    },
    {
      "cell_type": "code",
      "metadata": {
        "id": "Mf944T7tswqm"
      },
      "source": [
        "L = 1 #metro\n",
        "m = 0.2 #kg\n",
        "g = 9.8 #m/s^2\n",
        "\n"
      ],
      "execution_count": null,
      "outputs": []
    },
    {
      "cell_type": "markdown",
      "metadata": {
        "id": "XuT9qyWDsw4_"
      },
      "source": [
        "4. (opcional) Pesquise sobre o pacote `numpy` e os objetos desse pacote chamados `array`, tente utilizálos ao invés de listas para resolver os exercícios.\n",
        "\n",
        "Dica: podem usar o pacote `matplotlib.pyplot` para fazer um gráfico:"
      ]
    },
    {
      "cell_type": "code",
      "metadata": {
        "id": "fwbLBTXAs1Cx",
        "colab": {
          "base_uri": "https://localhost:8080/",
          "height": 296
        },
        "outputId": "78b47871-e541-4f15-9ad6-8eabd01b06f4"
      },
      "source": [
        "import matplotlib.pyplot as plt\n",
        "\n",
        "t=[0,1,2,3,4,5,6,7,8,9,10]\n",
        "x=[0,4.2,8,10,23,30,35,41,44,50,55]\n",
        "\n",
        "plt.plot(t,x)\n",
        "plt.xlabel(\"tempo s\")\n",
        "plt.ylabel(\"distância m\")"
      ],
      "execution_count": null,
      "outputs": [
        {
          "output_type": "execute_result",
          "data": {
            "text/plain": [
              "Text(0, 0.5, 'distância m')"
            ]
          },
          "metadata": {},
          "execution_count": 1
        },
        {
          "output_type": "display_data",
          "data": {
            "image/png": "[encoded data removed]",
            "text/plain": [
              "<Figure size 432x288 with 1 Axes>"
            ]
          },
          "metadata": {
            "needs_background": "light"
          }
        }
      ]
    },
    {
      "cell_type": "code",
      "metadata": {
        "id": "ByXEdMvJs5Vl"
      },
      "source": [
        ""
      ],
      "execution_count": null,
      "outputs": []
    }
  ]
}