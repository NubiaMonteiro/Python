{
  "nbformat": 4,
  "nbformat_minor": 0,
  "metadata": {
    "colab": {
      "name": "Exercícios_aula8.ipynb",
      "provenance": [],
      "authorship_tag": "ABX9TyOPiAx50Rkp5FeAmwiKvh8r",
      "include_colab_link": true
    },
    "kernelspec": {
      "name": "python3",
      "display_name": "Python 3"
    },
    "language_info": {
      "name": "python"
    }
  },
  "cells": [
    {
      "cell_type": "markdown",
      "metadata": {
        "id": "view-in-github",
        "colab_type": "text"
      },
      "source": [
        "<a href=\"https://colab.research.google.com/github/NubiaMonteiro/Python/blob/main/Exerc%C3%ADcios/Exerc%C3%ADcios_aula8.ipynb\" target=\"_parent\"><img src=\"https://colab.research.google.com/assets/colab-badge.svg\" alt=\"Open In Colab\"/></a>"
      ]
    },
    {
      "cell_type": "markdown",
      "metadata": {
        "id": "lrndq7hJgU7O"
      },
      "source": [
        "## Exercícios: \n",
        "   1. Percorra toda a `string` \"banana\", utilizando as iterações\n",
        "apresentadas nas aulas anteriores, e imprima na tela uma letra por linha como se fosse em uma escada.\n",
        "\n"
      ]
    },
    {
      "cell_type": "code",
      "metadata": {
        "colab": {
          "base_uri": "https://localhost:8080/"
        },
        "id": "M2ziXA1fgJk1",
        "outputId": "e62add5a-5c99-4e4b-ae75-1f254c7fd1da"
      },
      "source": [
        "fruta = 'banana'\n",
        "s = ' '\n",
        "\n",
        "for i in range(6):\n",
        "  letra = fruta[i]\n",
        "  print(s*i, letra)"
      ],
      "execution_count": null,
      "outputs": [
        {
          "output_type": "stream",
          "name": "stdout",
          "text": [
            " b\n",
            "  a\n",
            "   n\n",
            "    a\n",
            "     n\n",
            "      a\n"
          ]
        }
      ]
    },
    {
      "cell_type": "markdown",
      "metadata": {
        "id": "FBGEwCCzgd1b"
      },
      "source": [
        "2. Escreva uma função que receba uma `string` como argumento e exiba as letras de trás para a frente, uma por linha.\n"
      ]
    },
    {
      "cell_type": "code",
      "metadata": {
        "colab": {
          "base_uri": "https://localhost:8080/"
        },
        "id": "pNBROwQmghS0",
        "outputId": "51edef03-30dd-48b2-cfb7-9df75a182b0d"
      },
      "source": [
        "palavra = str(input('Escreva uma palavra:'))\n",
        "tamanho = (len(palavra))\n",
        "\n",
        "\n",
        "def string_(x, tamanho):\n",
        "  for i in range(tamanho-1, -1, -1):\n",
        "     letra = x[i]\n",
        "     print(letra)\n",
        "\n",
        "string_(palavra, tamanho)"
      ],
      "execution_count": null,
      "outputs": [
        {
          "output_type": "stream",
          "name": "stdout",
          "text": [
            "Escreva uma palavra:banana\n",
            "a\n",
            "n\n",
            "a\n",
            "n\n",
            "a\n",
            "b\n"
          ]
        }
      ]
    },
    {
      "cell_type": "markdown",
      "metadata": {
        "id": "sE7h9cgWsk6b"
      },
      "source": [
        "## Exercícios\n",
        "\n",
        "   1. Resolução numérica de equações diferenciais. Imagine que tem um/a maratonista treinando, que num trecho de $5 \\mathrm{km}$ tem velocidade quase constante de $12 \\mathrm{km/h}$. Produza uma lista com a  distância percorrida em intervalos de 1 minuto. "
      ]
    },
    {
      "cell_type": "code",
      "metadata": {
        "colab": {
          "base_uri": "https://localhost:8080/"
        },
        "id": "Y4RldjQZsqC-",
        "outputId": "bf1d888d-b9de-4b4c-88c4-e038d5b98c02"
      },
      "source": [
        "lista = []\n",
        "v_min = 12/60 #Velocidade em km por minutos\n",
        "lista_tempo = list(range(0, 26, 1))\n",
        "\n",
        "for t in lista_tempo: #Ele demora 25 minutos para percorrer 5 km\n",
        "  x = v_min*t\n",
        "  lista.append(x)\n",
        "\n",
        "print(lista, 'km')\n",
        "print(lista_tempo)\n",
        "\n",
        "print(len(lista))\n",
        "len(lista_tempo)"
      ],
      "execution_count": null,
      "outputs": [
        {
          "output_type": "stream",
          "name": "stdout",
          "text": [
            "[0.0, 0.2, 0.4, 0.6000000000000001, 0.8, 1.0, 1.2000000000000002, 1.4000000000000001, 1.6, 1.8, 2.0, 2.2, 2.4000000000000004, 2.6, 2.8000000000000003, 3.0, 3.2, 3.4000000000000004, 3.6, 3.8000000000000003, 4.0, 4.2, 4.4, 4.6000000000000005, 4.800000000000001, 5.0] km\n",
            "[0, 1, 2, 3, 4, 5, 6, 7, 8, 9, 10, 11, 12, 13, 14, 15, 16, 17, 18, 19, 20, 21, 22, 23, 24, 25]\n",
            "26\n"
          ]
        },
        {
          "output_type": "execute_result",
          "data": {
            "text/plain": [
              "26"
            ]
          },
          "metadata": {},
          "execution_count": 36
        }
      ]
    },
    {
      "cell_type": "code",
      "metadata": {
        "id": "HXTQUS8QlVNp"
      },
      "source": [
        ""
      ],
      "execution_count": null,
      "outputs": []
    },
    {
      "cell_type": "markdown",
      "metadata": {
        "id": "Dk3VX6wnsqbP"
      },
      "source": [
        "2. O/A mesmo/a atleta no seguinte trecho acelera nos seguintes $200$ metros até chegar numa velocidade de $15 \\mathrm{km/h}$, e mantém esta velocidade por $1,8 \\mathrm{km}$. Queremos obter uma tabela ou gráfico da distância percorrida en função do tempo, e calcular e o tempo total para chegar em $7 \\mathrm{km}$, faça isto utilizando listas. \n"
      ]
    },
    {
      "cell_type": "code",
      "metadata": {
        "colab": {
          "base_uri": "https://localhost:8080/"
        },
        "id": "Pn6V6VHLlE_f",
        "outputId": "9666b71f-c473-4df5-d3e9-34c38436526d"
      },
      "source": [
        "#Segundo momento\n",
        "\n",
        "a = (0.25**2 - 0.2**2)/0.4\n",
        "\n",
        "t = (0.25 - 0.2)/a # o corredor demora 0.88 aproximadamente 1 minuto percorrendo 200 metros para chegar a 15 km/h\n",
        "\n",
        "\n",
        "#Terceiro momento\n",
        "lista3 = []\n",
        "v_min3 = 15/60 #Velocidade em km por minutos\n",
        "lista_tempo3 = list(range(1, 9, 1))\n",
        "lista_tempo4 = list(range(26, 34, 1))\n",
        "for t in lista_tempo3: \n",
        "  x = v_min3*t\n",
        "  lista3.append(4.95 + x)\n",
        "\n",
        "\n",
        "\n",
        "del lista[26:]\n",
        "del lista_tempo[26:]\n",
        "lista.extend(lista3)\n",
        "lista_tempo.extend(lista_tempo4)\n",
        "print(lista3)\n",
        "print(lista)\n",
        "print(lista_tempo)"
      ],
      "execution_count": 75,
      "outputs": [
        {
          "output_type": "stream",
          "name": "stdout",
          "text": [
            "[5.2, 5.45, 5.7, 5.95, 6.2, 6.45, 6.7, 6.95]\n",
            "[0.0, 0.2, 0.4, 0.6000000000000001, 0.8, 1.0, 1.2000000000000002, 1.4000000000000001, 1.6, 1.8, 2.0, 2.2, 2.4000000000000004, 2.6, 2.8000000000000003, 3.0, 3.2, 3.4000000000000004, 3.6, 3.8000000000000003, 4.0, 4.2, 4.4, 4.6000000000000005, 4.800000000000001, 5.0, 5.2, 5.45, 5.7, 5.95, 6.2, 6.45, 6.7, 6.95]\n",
            "[0, 1, 2, 3, 4, 5, 6, 7, 8, 9, 10, 11, 12, 13, 14, 15, 16, 17, 18, 19, 20, 21, 22, 23, 24, 25, 26, 27, 28, 29, 30, 31, 32, 33]\n"
          ]
        }
      ]
    },
    {
      "cell_type": "code",
      "metadata": {
        "colab": {
          "base_uri": "https://localhost:8080/",
          "height": 312
        },
        "id": "oOLrN8AtnGNj",
        "outputId": "6cac559f-7a23-442c-ec92-1bfcc4c1a54d"
      },
      "source": [
        "import matplotlib.pyplot as plt\n",
        "\n",
        "plt.plot(lista, lista_tempo)\n",
        "plt.ylabel(\"Tempo (min)\")\n",
        "plt.xlabel(\"Distância (km)\")\n",
        "plt.title(\"Gráfico do corredor\")\n"
      ],
      "execution_count": 76,
      "outputs": [
        {
          "output_type": "execute_result",
          "data": {
            "text/plain": [
              "Text(0.5, 1.0, 'Gráfico do corredor')"
            ]
          },
          "metadata": {},
          "execution_count": 76
        },
        {
          "output_type": "display_data",
          "data": {
            "image/png": "[encoded data removed]",
            "text/plain": [
              "<Figure size 432x288 with 1 Axes>"
            ]
          },
          "metadata": {
            "needs_background": "light"
          }
        }
      ]
    },
    {
      "cell_type": "markdown",
      "metadata": {
        "id": "3xsP1OQTst0g"
      },
      "source": [
        "3. Considere um péndulo simples num plano. O comprimento da linha é $1$ metro, a massa é $0,2 \\mathrm{kg}$ e a aceleração de gravidade $9,8 \\mathrm{m}/\\mathrm{s}^2$. Faça um gráfico ou crie uma tabela para a posição da massa em coordenadas cartesianas em função do tempo, utilizando listas."
      ]
    },
    {
      "cell_type": "code",
      "metadata": {
        "id": "Mf944T7tswqm"
      },
      "source": [
        "L = 1 #metro\n",
        "m = 0.2 #kg\n",
        "g = 9.8 #m/s^2\n",
        "\n"
      ],
      "execution_count": null,
      "outputs": []
    },
    {
      "cell_type": "markdown",
      "metadata": {
        "id": "XuT9qyWDsw4_"
      },
      "source": [
        "4. (opcional) Pesquise sobre o pacote `numpy` e os objetos desse pacote chamados `array`, tente utilizálos ao invés de listas para resolver os exercícios.\n",
        "\n",
        "Dica: podem usar o pacote `matplotlib.pyplot` para fazer um gráfico:"
      ]
    },
    {
      "cell_type": "code",
      "metadata": {
        "id": "fwbLBTXAs1Cx"
      },
      "source": [
        "import matplotlib.pyplot as plt\n",
        "\n",
        "t=[0,1,2,3,4,5,6,7,8,9,10]\n",
        "x=[0,4.2,8,10,23,30,35,41,44,50,55]\n",
        "\n",
        "plt.plot(t,x)\n",
        "plt.xlabel(\"tempo s\")\n",
        "plt.ylabel(\"distância m\")"
      ],
      "execution_count": null,
      "outputs": []
    },
    {
      "cell_type": "code",
      "metadata": {
        "id": "ByXEdMvJs5Vl"
      },
      "source": [
        ""
      ],
      "execution_count": null,
      "outputs": []
    }
  ]
}