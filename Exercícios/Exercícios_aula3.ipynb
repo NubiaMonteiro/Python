{
  "nbformat": 4,
  "nbformat_minor": 0,
  "metadata": {
    "colab": {
      "name": "Exercícios_aula3.ipynb",
      "provenance": [],
      "collapsed_sections": [],
      "authorship_tag": "ABX9TyNihs+3y9KhOl9OrXQufo3V",
      "include_colab_link": true
    },
    "kernelspec": {
      "name": "python3",
      "display_name": "Python 3"
    },
    "language_info": {
      "name": "python"
    }
  },
  "cells": [
    {
      "cell_type": "markdown",
      "metadata": {
        "id": "view-in-github",
        "colab_type": "text"
      },
      "source": [
        "<a href=\"https://colab.research.google.com/github/NubiaMonteiro/Python/blob/main/Exerc%C3%ADcios/Exerc%C3%ADcios_aula3.ipynb\" target=\"_parent\"><img src=\"https://colab.research.google.com/assets/colab-badge.svg\" alt=\"Open In Colab\"/></a>"
      ]
    },
    {
      "cell_type": "markdown",
      "metadata": {
        "id": "pkhHTpXCqdgQ"
      },
      "source": [
        "\n"
      ]
    },
    {
      "cell_type": "markdown",
      "metadata": {
        "id": "kAzo_U0J1QC4"
      },
      "source": [
        "## Exercícios:\n",
        "1 Crie uma funcão que tome um argumento e imprima o valor e o tipo dele.\n",
        "\n"
      ]
    },
    {
      "cell_type": "code",
      "metadata": {
        "colab": {
          "base_uri": "https://localhost:8080/"
        },
        "id": "tD1lpPXGput3",
        "outputId": "c096ee68-88b5-4807-ab7b-8f3129a2d8e3"
      },
      "source": [
        "def f(x):\n",
        "  print('O valor do argumento é: ', x)\n",
        "  print('O tipo do argumento é: ', type(x))\n",
        "  \n",
        "f(4.5)\n",
        "\n",
        "f('a')\n",
        "\n",
        "f(10)"
      ],
      "execution_count": null,
      "outputs": [
        {
          "output_type": "stream",
          "text": [
            "O valor do argumento é:  4.5\n",
            "O tipo do argumento é:  <class 'float'>\n",
            "O valor do argumento é:  a\n",
            "O tipo do argumento é:  <class 'str'>\n",
            "O valor do argumento é:  10\n",
            "O tipo do argumento é:  <class 'int'>\n"
          ],
          "name": "stdout"
        },
        {
          "output_type": "execute_result",
          "data": {
            "text/plain": [
              "function"
            ]
          },
          "metadata": {
            "tags": []
          },
          "execution_count": 20
        }
      ]
    },
    {
      "cell_type": "markdown",
      "metadata": {
        "id": "pFMfUFv9qoY6"
      },
      "source": [
        "2 Crie uma função que calcule e imprima velocidade media de um objeto a partir de uma posição inicial, a final e o tempo transcorrido para um objeto em MRU. Também crie uma funcão que calcule e imprima a velocidade de um objeto a partir da aceleração constante e o tempo (MRUA) (p.ex. queda libre).\n"
      ]
    },
    {
      "cell_type": "code",
      "metadata": {
        "colab": {
          "base_uri": "https://localhost:8080/"
        },
        "id": "EnrpIQS2qrRc",
        "outputId": "a5cf9e69-b5f6-4f10-fb2a-b67c0e3ee5be"
      },
      "source": [
        "#Função para o MRU\n",
        "def y(s, s0, t):\n",
        "  v1 = (s - s0)/t\n",
        "  print('A velocidade média do objeito é: ', v1, 'm/s')\n",
        "  \n",
        "y(5, 0, 10)"
      ],
      "execution_count": null,
      "outputs": [
        {
          "output_type": "stream",
          "text": [
            "A velocidade média do objeito é:  0.5 m/s\n"
          ],
          "name": "stdout"
        }
      ]
    },
    {
      "cell_type": "code",
      "metadata": {
        "colab": {
          "base_uri": "https://localhost:8080/"
        },
        "id": "-qkt0KssyEnP",
        "outputId": "54e86d11-a85c-4839-a441-54136cedf7e8"
      },
      "source": [
        "#Função para o MRUA\n",
        "def z(a, t):\n",
        "  v2 = a*t\n",
        "  print('A velocidade do objeto é: %f m/s' % v2)\n",
        "\n",
        "z(9.8, 3)"
      ],
      "execution_count": null,
      "outputs": [
        {
          "output_type": "stream",
          "text": [
            "A velocidade do objeto é: 29.400000 m/s\n"
          ],
          "name": "stdout"
        }
      ]
    },
    {
      "cell_type": "markdown",
      "metadata": {
        "id": "7Iw7jswHqrsK"
      },
      "source": [
        "3 Crie uma funcão para calcular o ángulo zenital do sol (da semana passada) tomando como argumento as medidas da altura e o comprimento da sombra.\n"
      ]
    },
    {
      "cell_type": "code",
      "metadata": {
        "colab": {
          "base_uri": "https://localhost:8080/"
        },
        "id": "oKuS1baoquPa",
        "outputId": "7db05672-159f-46f6-b4bd-6b65ff43733f"
      },
      "source": [
        "import math\n",
        "def a(h, c):\n",
        "  b = math.sqrt(h**2 + c**2)\n",
        "  d = math.sin(c/b)\n",
        "  e = math.asin(d)\n",
        "  print('O valor do ângulo zenital do sol é: %f rad' % e)\n",
        "\n",
        "a(0.5, 5)"
      ],
      "execution_count": null,
      "outputs": [
        {
          "output_type": "stream",
          "text": [
            "O valor do ângulo zenital do sol é: 0.995037 rad\n"
          ],
          "name": "stdout"
        }
      ]
    },
    {
      "cell_type": "markdown",
      "metadata": {
        "id": "-CJEEXi4qujK"
      },
      "source": [
        "4 Crie uma função que faça a conversão de uma medida inicialmente em milhas para m, e outra para o inverso; uma de horas para segundos, e o inverso. Utilize estas funções para resolver novamente o primeiro exercício da semana passada (da corrida). Se uma pessoa demora 30 minutos em 4 milhas, qual velocidade media em km/h ? e o tempo medio por kilometro?\n"
      ]
    },
    {
      "cell_type": "code",
      "metadata": {
        "colab": {
          "base_uri": "https://localhost:8080/"
        },
        "id": "5GT-ChiWqwmE",
        "outputId": "2c689e54-5c53-42ff-9256-513ef88c2db1"
      },
      "source": [
        "#conversão milhas para metros\n",
        "def f1(x):\n",
        "  m=x*1.61\n",
        "  print(x, 'milhas equivalem a', m, 'metros')\n",
        "\n",
        "f1(4)\n",
        "\n",
        "#conversão metros para milhas\n",
        "def f2(y):\n",
        "  M=y/1.61\n",
        "  print(y,'metros equivalem a', M, 'milhas')\n",
        "\n",
        "f2(6.44)\n",
        "\n",
        "#conversão horas para segundos\n",
        "def f3(h):\n",
        "  s=h*3600 \n",
        "  print(h,'horas equivalem a', s, 'segundos')\n",
        "\n",
        "f3(2)\n",
        "\n",
        "#conversão segundos para horas\n",
        "def f4(s):\n",
        "  h=s/3600\n",
        "  print(s, 'segundo equivalem a', h, 'horas')\n",
        "\n",
        "f4(7200) "
      ],
      "execution_count": 66,
      "outputs": [
        {
          "output_type": "stream",
          "text": [
            "4 milhas equivalem a 6.44 metros\n",
            "6.44 metros equivalem a 4.0 milhas\n",
            "2 horas equivalem a 7200 segundos\n",
            "7200 segundo equivalem a 2.0 horas\n"
          ],
          "name": "stdout"
        }
      ]
    },
    {
      "cell_type": "code",
      "metadata": {
        "colab": {
          "base_uri": "https://localhost:8080/"
        },
        "id": "MScG7LJiR092",
        "outputId": "de745418-e770-4174-8cef-1b0fcaaa460a"
      },
      "source": [
        "#Resolvendo o problema\n",
        "\n",
        "f1(4)\n",
        "\n",
        "f3(0.5)"
      ],
      "execution_count": 69,
      "outputs": [
        {
          "output_type": "stream",
          "text": [
            "4 milhas equivalem a 6.44 metros\n",
            "0.5 horas equivalem a 1800.0 segundos\n"
          ],
          "name": "stdout"
        }
      ]
    },
    {
      "cell_type": "code",
      "metadata": {
        "colab": {
          "base_uri": "https://localhost:8080/"
        },
        "id": "S6gdYWMTS5FM",
        "outputId": "42449a67-209f-4e32-c372-2c01ac2c84cb"
      },
      "source": [
        "#Velocidade média\n",
        "v = (6.44/1000)/0.5\n",
        "\n",
        "print('A velocidade média é: ', v, 'km/h')\n",
        "\n",
        "#Tempo médio por km\n",
        "T = 1800/(6.44/1000)\n",
        "\n",
        "print('O tempo médio em segundo por km é: ', T, 's/km')"
      ],
      "execution_count": 71,
      "outputs": [
        {
          "output_type": "stream",
          "text": [
            "A velocidade média é:  0.01288 km/h\n",
            "O tempo médio em segundo por km é:  279503.1055900621 s/km\n"
          ],
          "name": "stdout"
        }
      ]
    },
    {
      "cell_type": "markdown",
      "metadata": {
        "id": "tPLB6ALIqwx6"
      },
      "source": [
        "5 Crie funções para calcular os outros exemplos das aulas anteriores: IMC, volume de uma esfera, distancia entre pontos de máximos de difração. Decida quais serão os argumentos e o valor retornado."
      ]
    },
    {
      "cell_type": "code",
      "metadata": {
        "colab": {
          "base_uri": "https://localhost:8080/"
        },
        "id": "kFJx6GzcVJ4Q",
        "outputId": "c4d598a5-841a-48d0-ebff-2e1c30c12429"
      },
      "source": [
        "import math\n",
        "#IMC\n",
        "#Argumentos: massa e Altura \n",
        "#Valor retornado: IMC\n",
        "def imc(m, A):\n",
        "  imc = m/(A**2)\n",
        "  print('O seu imc é: ', imc)\n",
        "\n",
        "imc(63, 1.75)\n",
        "\n",
        "#Volume da esfera\n",
        "#Argumentos: raio \n",
        "#Valor retornado: Volume\n",
        "def V(r):\n",
        "  v=(4*math.pi*(r**3))/3\n",
        "  print('O volume da esfera é: ', v)\n",
        "\n",
        "V(5)\n",
        "\n",
        "#Distancia entre pontos de máximo de difração\n",
        "#Argumentos: Lambda, Distância entre anteparo e a fenda e distância entre dois máximos de interferência consecutivos\n",
        "#Valor retornado: Distancia entre pontos de máximo de difração\n",
        "def deltay(L, D, d):\n",
        "  deltay=L*D/d\n",
        "  print('A distancia entre pontos de máximo de difração é: ', deltay)\n",
        "\n",
        "deltay(632.8*(10**(-9)), 1.98, 0.250*(10**(-3)))"
      ],
      "execution_count": 74,
      "outputs": [
        {
          "output_type": "stream",
          "text": [
            "O seu imc é:  20.571428571428573\n",
            "O volume da esfera é:  523.5987755982989\n",
            "A distancia entre pontos de máximo de difração é:  0.005011776\n"
          ],
          "name": "stdout"
        }
      ]
    }
  ]
}