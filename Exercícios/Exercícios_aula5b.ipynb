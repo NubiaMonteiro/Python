{
  "nbformat": 4,
  "nbformat_minor": 0,
  "metadata": {
    "colab": {
      "name": "Exercícios_aula5b.ipynb",
      "provenance": [],
      "collapsed_sections": [],
      "authorship_tag": "ABX9TyO+tCPe3igZg0X08mThKA5p",
      "include_colab_link": true
    },
    "kernelspec": {
      "name": "python3",
      "display_name": "Python 3"
    },
    "language_info": {
      "name": "python"
    }
  },
  "cells": [
    {
      "cell_type": "markdown",
      "metadata": {
        "id": "view-in-github",
        "colab_type": "text"
      },
      "source": [
        "<a href=\"https://colab.research.google.com/github/NubiaMonteiro/Python/blob/main/Exerc%C3%ADcios/Exerc%C3%ADcios_aula5b.ipynb\" target=\"_parent\"><img src=\"https://colab.research.google.com/assets/colab-badge.svg\" alt=\"Open In Colab\"/></a>"
      ]
    },
    {
      "cell_type": "markdown",
      "metadata": {
        "id": "WMYcvX6EQgc8"
      },
      "source": [
        "## Exercícios - Parte 2:\n",
        "  \n",
        "1 Escreva um conjunto apropriadamente geral de funções que possam desenhar flores como na Figura abaixo:\n",
        "![flowers](https://github.com/malbouis/Python_intro/blob/master/aulas_2019/pics/flowers.png?raw=1)"
      ]
    },
    {
      "cell_type": "code",
      "metadata": {
        "id": "R3lvdoz9Qcr5"
      },
      "source": [
        "import turtle\n",
        "import math\n",
        "\n",
        "jn=turtle.Screen()\n",
        "joana=turtle.Turtle()\n",
        "\n",
        "#Função polyline retirada da aula 5b\n",
        "def polyline(t, n, length, angle):\n",
        "    for i in range(n):\n",
        "        t.forward(int(length))\n",
        "        t.left(angle)\n",
        "\n",
        "#Função arc retirada da aula 5b \n",
        "def arc(t, r, angle):\n",
        "    arc_length = 2 * math.pi * r * angle / 360\n",
        "    n = int(arc_length / 3) + 1 \n",
        "    step_length = arc_length / n \n",
        "    step_angle = float(angle) / n \n",
        "    polyline(t, n, step_length, step_angle)\n",
        "\n",
        "#Função para uma pétala\n",
        "def petala(t, r, angle):\n",
        "    for i in range(1):\n",
        "        arc(t, r, angle)\n",
        "        t.left(180-angle)\n",
        "        \n",
        "#Função para construir uma flor\n",
        "def flor(t, r, angle, n):\n",
        "  t.speed(10)\n",
        "  for i in range(n):\n",
        "    petala(t, r, angle)\n",
        "    t.left(360/n)\n",
        "    petala(t, r, angle)\n",
        "  joana.penup( )\n",
        "  joana.fd(2.5)\n",
        "  joana.pendown( )\n",
        "\n",
        "joana.penup( )\n",
        "joana.fd(-180)\n",
        "joana.pendown( )\n",
        "\n",
        "#Para a primeira flor \n",
        "flor(joana, 80, 45, 7)\n",
        "joana.penup( )\n",
        "joana.fd(100)\n",
        "joana.pendown( )\n",
        "  \n",
        "#Para a segunda flor\n",
        "flor(joana, 40, 80, 10)\n",
        "joana.penup( )\n",
        "joana.fd(100)\n",
        "joana.pendown( )\n",
        "\n",
        "#Para a terceira flor\n",
        "flor(joana, 150, 18, 20)\n",
        "\n",
        "joana.hideturtle()\n",
        "jn.mainloop()"
      ],
      "execution_count": null,
      "outputs": []
    },
    {
      "cell_type": "markdown",
      "metadata": {
        "id": "MsvfgpNKQnea"
      },
      "source": [
        "2 Escreva um conjunto apropriadamente geral de funções que podem desenhar formas como na figura:\n",
        "![shapes](https://github.com/malbouis/Python_intro/blob/master/aulas_2019/pics/shapes_turtle.png?raw=1)\n",
        "Veja mais exercícios em: http://greenteapress.com/thinkpython2/html/thinkpython2005.html#sec42\n",
        "e: http://dfnae.fis.uerj.br/twiki/bin/view/DFNAE/IntroPython#Aula_6"
      ]
    },
    {
      "cell_type": "code",
      "metadata": {
        "id": "kZepryS9QrdZ"
      },
      "source": [
        "import turtle\n",
        "import math\n",
        "\n",
        "jn = turtle.Screen( )\n",
        "joana = turtle.Turtle( )\n",
        "\n",
        "\n",
        "def forma(t, n, r):\n",
        "    \"\"\"transforma os triangulos isósceles nas formas geométricas\n",
        "    t=turtle\n",
        "    n=número de lados\n",
        "    r=tamanho do lado\"\"\"\n",
        "    a = 360/n\n",
        "    for i in range(n):\n",
        "        isosceles(t, r, a/2)\n",
        "        t.left(a)\n",
        "\n",
        "\n",
        "def isosceles(t, r, a):\n",
        "  \"\"\" faz cada um dos triângulos isósceles de cada forma\n",
        "  a=angulo\"\"\"\n",
        "  \n",
        "    y = r * math.sin(a * math.pi / 180)\n",
        "\n",
        "    t.right(a)\n",
        "    t.fd(r)\n",
        "    t.left(90+a)\n",
        "    t.fd(2*y)\n",
        "    t.left(90+a)\n",
        "    t.fd(r)\n",
        "    t.left(180-a)\n",
        "\n",
        "joana = turtle.Turtle()\n",
        "\n",
        "#Para o pentágono\n",
        "forma(joana, 5, 40)\n",
        "\n",
        "#Para o hexagono\n",
        "forma(joana, 6, 40)\n",
        "\n",
        "#Para o heptágono\n",
        "forma(joana, 7, 40)\n",
        "\n",
        "jn.mainloop( )"
      ],
      "execution_count": null,
      "outputs": []
    },
    {
      "cell_type": "markdown",
      "metadata": {
        "id": "w4-F20ODQsSR"
      },
      "source": [
        "3 Adicione instruções para desenhar o talo e folha da flor. Faça a refatoração apropriada para a interface da flor completa ficar \"limpa\"."
      ]
    },
    {
      "cell_type": "code",
      "metadata": {
        "id": "MXdOxjIfQwRq"
      },
      "source": [
        "import turtle\n",
        "import math\n",
        "\n",
        "jn=turtle.Screen()\n",
        "joana=turtle.Turtle()\n",
        "\n",
        "#Função polyline retirada da aula 5b\n",
        "def polyline(t, n, length, angle):\n",
        "    for i in range(n):\n",
        "        t.forward(int(length))\n",
        "        t.left(angle)\n",
        "\n",
        "#Função arc retirada da aula 5b \n",
        "def arc(t, r, angle):\n",
        "    arc_length = 2 * math.pi * r * angle / 360\n",
        "    n = int(arc_length / 3) + 1 \n",
        "    step_length = arc_length / n \n",
        "    step_angle = float(angle) / n \n",
        "    polyline(t, n, step_length, step_angle)\n",
        "\n",
        "#Função para uma pétala ou folha\n",
        "def petala(t, r, angle):\n",
        "    for i in range(1):\n",
        "        arc(t, r, angle)\n",
        "        t.left(180-angle)\n",
        "\n",
        "#Função para construir o cabo e a folha posicionando-os\n",
        "def position(t, r, angle):\n",
        "  t.color(\"green\")\n",
        "  t.fillcolor(\"green\")\n",
        "  t.penup()\n",
        "  t.forward(r/2)\n",
        "  t.pendown()\n",
        "  t.right(90)\n",
        "  t.forward(r)\n",
        "  t.left(90)\n",
        "  t.begin_fill()\n",
        "  for i in range (2):\n",
        "    petala(t, r, angle)\n",
        "  t.right(90)\n",
        "  t.end_fill()\n",
        "  t.forward(r)\n",
        "  joana.hideturtle()\n",
        "        \n",
        "#Função para construir uma flor \n",
        "def flor(t, r, angle, n):\n",
        "  t.speed(10)\n",
        "  t.color(\"violet\")\n",
        "  t.fillcolor(\"violet\")\n",
        "  t.begin_fill()\n",
        "  for i in range(n):\n",
        "    petala(t, r, angle)\n",
        "    t.left(360/n)\n",
        "    petala(t, r, angle)\n",
        "  t.end_fill()\n",
        "  position(t, r, angle)\n",
        "  \n",
        "\n",
        "#Para a primeira flor \n",
        "flor(joana, 40, 45, 7)"
      ],
      "execution_count": null,
      "outputs": []
    },
    {
      "cell_type": "markdown",
      "metadata": {
        "id": "Z8pa_YdnQwlB"
      },
      "source": [
        "4 As letras do alfabeto podem ser construídas a partir de um número moderado de elementos básicos, como linhas verticais e horizontais e algumas curvas. Projete um alfabeto que possa ser desenhado com um número mínimo de elementos básicos e depois escreva funções que desenhem as letras.\n",
        "   1. Você deve escrever uma função para cada letra, com os nomes ```draw_a_```, ```_draw_b_```, etc., e colocar suas funções em um arquivo chamado ```letters.py```. Você pode baixar uma “turtle typewriter” de http://thinkpython2.com/code/typewriter.py para ajudá-lo a testar seu código.\n",
        "   1. Você pode obter uma solução em http://thinkpython2.com/code/letters.py; também requer http://thinkpython2.com/code/polygon.py."
      ]
    },
    {
      "cell_type": "code",
      "metadata": {
        "id": "r_Co4yDoQ0da"
      },
      "source": [
        "import turtle \n",
        "\n",
        "joana = turtle.Turtle( )\n",
        "\n",
        "#Função para escrever a letra A\n",
        "def draw_A(t, l):\n",
        "  t.left(120)\n",
        "  t.forward(l)\n",
        "  t.left(120)\n",
        "  t.forward(l/2)\n",
        "  t.left(120)\n",
        "  t.forward(l/2)\n",
        "  t.right(180)\n",
        "  t.forward(l/2)\n",
        "  t.right(300)\n",
        "  t.forward(l/2)\n",
        "  \n",
        "draw_a(joana, 100)\n",
        "  "
      ],
      "execution_count": null,
      "outputs": []
    },
    {
      "cell_type": "markdown",
      "metadata": {
        "id": "gMFPBrQyQ1QK"
      },
      "source": [
        "5 Leia sobre espirais em http://en.wikipedia.org/wiki/Spiral; em seguida, escreva um programa que desenhe uma espiral arquimediana (ou um dos outros tipos). Solução: http://thinkpython2.com/code/spiral.py."
      ]
    },
    {
      "cell_type": "code",
      "metadata": {
        "id": "rZo0wUrJQ4q6"
      },
      "source": [
        "import turtle\n",
        "\n",
        "jn = turtle.Screen( )\n",
        "joana = turtle.Turtle( )\n",
        "\n",
        "def spiral(t, n):\n",
        "  \"\"\"\n",
        "  t=turtle\n",
        "  n=número de segmentos de linhas \n",
        "  a=muda a direçao da espiral\n",
        "  b=distância entre espirais consecutivas\n",
        "  \"\"\"\n",
        "  length = 3\n",
        "  a=0.1\n",
        "  b=0.0002\n",
        "  theta=0\n",
        "  for i in range(n):\n",
        "    t.forward(length)\n",
        "    dtheta =1/(a + b *theta)\n",
        "    t.left(dtheta)\n",
        "    theta += dtheta\n",
        "\n",
        "spiral(joana, 1000)\n",
        "\n",
        "jn.mainloop( )"
      ],
      "execution_count": null,
      "outputs": []
    }
  ]
}