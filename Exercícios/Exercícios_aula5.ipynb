{
  "nbformat": 4,
  "nbformat_minor": 0,
  "metadata": {
    "colab": {
      "name": "Exercícios_aula5.ipynb",
      "provenance": [],
      "collapsed_sections": [],
      "authorship_tag": "ABX9TyM/3aL8qDODxVA9dkuvd2lu",
      "include_colab_link": true
    },
    "kernelspec": {
      "name": "python3",
      "display_name": "Python 3"
    },
    "language_info": {
      "name": "python"
    }
  },
  "cells": [
    {
      "cell_type": "markdown",
      "metadata": {
        "id": "view-in-github",
        "colab_type": "text"
      },
      "source": [
        "<a href=\"https://colab.research.google.com/github/NubiaMonteiro/Python/blob/main/Exerc%C3%ADcios/Exerc%C3%ADcios_aula5.ipynb\" target=\"_parent\"><img src=\"https://colab.research.google.com/assets/colab-badge.svg\" alt=\"Open In Colab\"/></a>"
      ]
    },
    {
      "cell_type": "markdown",
      "metadata": {
        "id": "5YtKx7cn9Tty"
      },
      "source": [
        "### Exercícios:\n",
        "1 Modifique o programa da tartaruga (primeiro exemplo) para que, antes de criar a janela, ele solicite que o usuário insira a cor de fundo desejada. Ele deve armazenar as respostas do usuário em uma variável e modificar a cor da janela de acordo com os desejos do usuário. \n",
        "   * ***Dicas***: faça uso da função ***input***, built-in do python\n",
        "   * você pode encontrar uma lista de nomes de cores permitidos em http://www.tcl.tk/man/tcl8.4/TkCmd/colors.htm. Inclui alguns bem incomuns, como “peach puff” e “HotPink” ”***"
      ]
    },
    {
      "cell_type": "code",
      "metadata": {
        "id": "TBx8hkxuMvJB"
      },
      "source": [
        "import turtle\n",
        "\n",
        "jn = turtle.Screen()      \n",
        "joana = turtle.Turtle()   \n",
        "\n",
        "x = input(\"Escreve a cor de janela desejada:\")\n",
        "jn.bgcolor(x)\n",
        "\n",
        "joana.forward(50)          \n",
        "joana.left(90)             \n",
        "joana.forward(30)          \n",
        "\n",
        "jn.mainloop()  "
      ],
      "execution_count": null,
      "outputs": []
    },
    {
      "cell_type": "markdown",
      "metadata": {
        "id": "lBMRDwVE9Wcx"
      },
      "source": [
        "2 Faça modificações similares para permitir que o usuário mude a cor da tartaruga durante a execução do programa.\n",
        "   1. Faça o mesmo para a largura da caneta da tartaruga. *Dica: seu diálogo com o usuário retornará uma string, mas o método **pensize** espera que seu argumento seja um **int**. Então, você precisará converter a **string** em um **int** antes de passá-la para **pensize**.* "
      ]
    },
    {
      "cell_type": "code",
      "metadata": {
        "id": "tp7HFVlE9buG"
      },
      "source": [
        "import turtle\n",
        "\n",
        "jn = turtle.Screen()      \n",
        "joana = turtle.Turtle()   \n",
        "\n",
        "#mudança da cor da janela\n",
        "x = input(\"Escreve a cor de janela desejada:\")\n",
        "jn.bgcolor(x)\n",
        "\n",
        "#mudança da cor da tartaruga\n",
        "y = input(\"Escreva a cor desejada para a tartaruga:\")\n",
        "joana.color(y)\n",
        "\n",
        "#mudança da grossura da tartaruga\n",
        "z = input(\"Escreva a largura desejada para a tartaruga:\")\n",
        "joana.pensize(z)\n",
        "\n",
        "joana.forward(50)          \n",
        "joana.left(90)             \n",
        "joana.forward(30)          \n",
        "\n",
        "joana.pensize(z)\n",
        "jn.mainloop()            "
      ],
      "execution_count": null,
      "outputs": []
    },
    {
      "cell_type": "markdown",
      "metadata": {
        "id": "YQeg1Q3P9ego"
      },
      "source": [
        "3 Investiguem os métodos e tipos do módulo turtle;"
      ]
    },
    {
      "cell_type": "code",
      "metadata": {
        "id": "fBRlJWel9mbi"
      },
      "source": [
        ""
      ],
      "execution_count": null,
      "outputs": []
    },
    {
      "cell_type": "markdown",
      "metadata": {
        "id": "-Gs7vtk89mxo"
      },
      "source": [
        "4 Desenhe um quadrado, usando a forma de tartaruga, ao invés da flecha, para desenhar.\n",
        "   1. mude a velocidade com que a tartaruga faz o desenho"
      ]
    },
    {
      "cell_type": "code",
      "metadata": {
        "id": "pjz93haX9rwR"
      },
      "source": [
        "#utilizando a forma de tartaruga\n",
        "import turtle\n",
        "\n",
        "jn = turtle.Screen()\n",
        "joana = turtle.Turtle()\n",
        "\n",
        "joana.shape(\"turtle\")\n",
        "\n",
        "for i in range(4):\n",
        "  joana.fd(50)\n",
        "  joana.left(90)\n",
        "\n",
        "jn.mainloop()"
      ],
      "execution_count": null,
      "outputs": []
    },
    {
      "cell_type": "code",
      "metadata": {
        "id": "7pEGlxnJJBX1"
      },
      "source": [
        "#Mudando a velocidade da tartaruga\n",
        "import turtle\n",
        "\n",
        "jn = turtle.Screen()\n",
        "joana = turtle.Turtle()\n",
        "\n",
        "joana.shape(\"turtle\")\n",
        "\n",
        "joana.speed(\"fast\") #Utilizei fast para aumentar, porém poderia ter usado números de 1 a 10 e outras palavras.\n",
        "\n",
        "for i in range(4):\n",
        "  joana.fd(50)\n",
        "  joana.left(90)\n",
        "\n",
        "jn.mainloop()"
      ],
      "execution_count": null,
      "outputs": []
    },
    {
      "cell_type": "markdown",
      "metadata": {
        "id": "OBhuHMxr9sVv"
      },
      "source": [
        "5 Sabendo que o ângulo interno da ponta de uma estrela de 5 pontas é de 36 graus, desenhe uma estrela em uma janela."
      ]
    },
    {
      "cell_type": "code",
      "metadata": {
        "id": "QngCEp3P9vgJ"
      },
      "source": [
        " import turtle\n",
        " \n",
        "jn = turtle.Screen()       \n",
        "joana = turtle.Turtle()\n",
        " \n",
        "for t in range(5): \n",
        "   joana.forward(50) \n",
        "   joana.right(144) \n",
        "    \n",
        "jn.mainloop()"
      ],
      "execution_count": null,
      "outputs": []
    },
    {
      "cell_type": "markdown",
      "metadata": {
        "id": "JyFtZeC29vvp"
      },
      "source": [
        "6 Sabendo o ângulo interno da ponta de uma estrela, desenhe quatro estrelas em uma janela, com uma certa distância entre elas. Dica: use a função penup() e pendown() do módulo turtle"
      ]
    },
    {
      "cell_type": "code",
      "metadata": {
        "id": "5vBC_prJ-L9P"
      },
      "source": [
        "import turtle\n",
        "\n",
        "jn=turtle.Screen()\n",
        "joana=turtle.Turtle()\n",
        "\n",
        "for i in range(4):\n",
        "  joana.up()\n",
        "  joana.forward(35)\n",
        "  joana.pd()\n",
        "  for j in range(5):\n",
        "    joana.forward(30) \n",
        "    joana.right(144) \n",
        "    \n",
        "jn.mainloop()"
      ],
      "execution_count": null,
      "outputs": []
    },
    {
      "cell_type": "markdown",
      "metadata": {
        "id": "pf_O8cil-MJP"
      },
      "source": [
        "### Exercícios em preparação para os próximos capítulos\n",
        "\n",
        "1 Escreva uma função chamada `square`, que toma um parâmetro `t`, que é uma `Turtle`. Essa função deve usar o `turtle` para desenhar um quadrado. Escreva uma chamada de função que passe `joana` como argumento para `square` e rode o programa novamente. \n"
      ]
    },
    {
      "cell_type": "code",
      "metadata": {
        "id": "wn8JMnQd-Man"
      },
      "source": [
        "import turtle\n",
        "\n",
        "jn=turtle.Screen()\n",
        "joana=turtle.Turtle()\n",
        "\n",
        "def square(t):\n",
        "  for i in range(4):\n",
        "    t.forward(50)\n",
        "    t.left(90)\n",
        "  \n",
        "square(joana)\n",
        "\n",
        "jn.mainloop()"
      ],
      "execution_count": null,
      "outputs": []
    },
    {
      "cell_type": "markdown",
      "metadata": {
        "id": "ipmNiBgtJp_R"
      },
      "source": [
        "2 Adicione um outro parâmetro, chamado `length`, à função `square`. Modifique o corpo da função de tal forma que o comprimento dos lados do quadrado seja `length` e então modifique a chamada da função para que seja passado o segundo argumento. Rode o programa novamente. Teste o seu programa com diversos valores para `length`."
      ]
    },
    {
      "cell_type": "code",
      "metadata": {
        "id": "O4uNXY18JqMz"
      },
      "source": [
        "import turtle\n",
        "\n",
        "jn=turtle.Screen()\n",
        "joana=turtle.Turtle()\n",
        "\n",
        "def square(t, length):\n",
        "  for i in range(4):\n",
        "    t.forward(length)\n",
        "    t.left(90)\n",
        "  \n",
        "square(joana,100) #utilizei valores de comprimento 10, 50, 100 e 150.\n",
        "\n",
        "jn.mainloop()"
      ],
      "execution_count": null,
      "outputs": []
    },
    {
      "cell_type": "markdown",
      "metadata": {
        "id": "2R0a1YIJJqkh"
      },
      "source": [
        "3 Faça uma cópia da função `square` e mude o nome para `polygon`. Adicione um outro parâmetro chamado `n` e modifique o corpo da função para que ela desenhe um polígono regular de `n` lados. Dica: Os ângulos externos de um polígono regular de `n` lados são de `360/n` graus.  "
      ]
    },
    {
      "cell_type": "code",
      "metadata": {
        "id": "lCBDRzXCJrkz"
      },
      "source": [
        "import turtle\n",
        "\n",
        "jn=turtle.Screen()\n",
        "joana=turtle.Turtle()\n",
        "\n",
        "def polygon(t, length, n):\n",
        "  for i in range(n):\n",
        "    t.forward(length)\n",
        "    t.left(360/n)\n",
        "  \n",
        "polygon(joana,50, 12)\n",
        "\n",
        "jn.mainloop()"
      ],
      "execution_count": null,
      "outputs": []
    },
    {
      "cell_type": "markdown",
      "metadata": {
        "id": "pko5xxd3Jr0h"
      },
      "source": [
        "4 Escreva uma função chamada `circle` que toma como argumento uma `Turtle`, `t`, e um raio, `r`, e desenha um círculo aproximado ao chamar a função `polygon` com `length` e número `n` de lados apropriados. Teste sua função com um intervalo de valores de `r`. Dica: Determine a circunferência do círculo e se certifique que `comprimento * n = circunferência`."
      ]
    },
    {
      "cell_type": "code",
      "metadata": {
        "id": "d3HkH-J3Jr_K"
      },
      "source": [
        "import turtle\n",
        "import math\n",
        "\n",
        "jn=turtle.Screen()\n",
        "joana=turtle.Turtle()\n",
        "\n",
        "def polygon(length, n):\n",
        "  for i in range(n):\n",
        "    joana.forward(length)\n",
        "    joana.left(360/n)\n",
        "    \n",
        "\n",
        "def circle(t,r):\n",
        "  length=(2*math.pi*r)/50\n",
        "  polygon(length, 50)\n",
        "  \n",
        "circle(joana, 50)\n",
        "\n",
        "jn.mainloop()"
      ],
      "execution_count": null,
      "outputs": []
    },
    {
      "cell_type": "markdown",
      "metadata": {
        "id": "JDWDmRF5JslZ"
      },
      "source": [
        "5 Faça uma versão mais geral da função `circle`, chamada `arc`, que toma um parâmetro adicional, `angle`, que determina qual a fração do circulo a ser desenhada. `angle` está em unidades de graus, logo quando `angle=360`, a função `arc` deve desenhar um cículo completo."
      ]
    },
    {
      "cell_type": "code",
      "metadata": {
        "id": "UAKwzMrSJsuy"
      },
      "source": [
        "import turtle\n",
        "import math\n",
        "\n",
        "jn=turtle.Screen()\n",
        "joana=turtle.Turtle()\n",
        "\n",
        "def polygon(length, n, angle):\n",
        "  for i in range(n):\n",
        "    joana.forward(length)\n",
        "    joana.left(angle/n)\n",
        "    \n",
        "\n",
        "def arc(t, r, angle):\n",
        "  length=(2*math.pi*r)/50\n",
        "  polygon(length, 50, angle)\n",
        "  \n",
        "circle(joana, 50, 180)\n",
        "\n",
        "jn.mainloop()"
      ],
      "execution_count": null,
      "outputs": []
    }
  ]
}