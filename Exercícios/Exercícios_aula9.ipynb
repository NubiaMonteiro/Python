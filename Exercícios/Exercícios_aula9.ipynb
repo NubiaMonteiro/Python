{
  "nbformat": 4,
  "nbformat_minor": 0,
  "metadata": {
    "colab": {
      "name": "Exercícios_aula9.ipynb",
      "provenance": [],
      "collapsed_sections": [],
      "authorship_tag": "ABX9TyMNP2Lpv4F0s5ooZomt8GqI",
      "include_colab_link": true
    },
    "kernelspec": {
      "name": "python3",
      "display_name": "Python 3"
    },
    "language_info": {
      "name": "python"
    }
  },
  "cells": [
    {
      "cell_type": "markdown",
      "metadata": {
        "id": "view-in-github",
        "colab_type": "text"
      },
      "source": [
        "<a href=\"https://colab.research.google.com/github/NubiaMonteiro/Python/blob/main/Exerc%C3%ADcios/Exerc%C3%ADcios_aula9.ipynb\" target=\"_parent\"><img src=\"https://colab.research.google.com/assets/colab-badge.svg\" alt=\"Open In Colab\"/></a>"
      ]
    },
    {
      "cell_type": "markdown",
      "metadata": {
        "id": "bMPKjPy8Puyo"
      },
      "source": [
        "## Exercícios\n",
        "\n",
        "1) Considere a função abaixo. Esse tipo de função é considerada uma **função modificadora** pois modifica o objeto que é passado como argumento."
      ]
    },
    {
      "cell_type": "code",
      "metadata": {
        "colab": {
          "base_uri": "https://localhost:8080/"
        },
        "id": "zwSRzCjBPsON",
        "outputId": "62967c1e-855e-4626-afbe-e698e6d5efd8"
      },
      "source": [
        "def dobrar_elementos(uma_lista):\n",
        "    \"\"\" Reescreve os elementos de uma_lista com o dobro de seus valores originais.\n",
        "    \"\"\"\n",
        "    for (i, valor) in enumerate(uma_lista):\n",
        "        novo_elem = 2 * valor\n",
        "        uma_lista[i] = novo_elem\n",
        "\n",
        "    return uma_lista\n",
        "\n",
        "minha_lista = [2, 4, 6]\n",
        "print(minha_lista)\n",
        "dobrar_elementos(minha_lista)\n",
        "print(minha_lista)"
      ],
      "execution_count": 15,
      "outputs": [
        {
          "output_type": "stream",
          "name": "stdout",
          "text": [
            "[2, 4, 6]\n",
            "[4, 8, 12]\n"
          ]
        }
      ]
    },
    {
      "cell_type": "markdown",
      "metadata": {
        "id": "8G_qqLWRPveG"
      },
      "source": [
        "a) Modifique a função para retornar uma **nova lista**, sem modificar a lista usada como parâmetro. Esse tipo de função é chamado de **função pura**.\n",
        "\n",
        "\n",
        "b) Modifique a documentação de ajuda da nova função, de tal forma que quando se chame a função ***help*** da nova função, se obtenha a descrição adequada."
      ]
    },
    {
      "cell_type": "code",
      "metadata": {
        "colab": {
          "base_uri": "https://localhost:8080/"
        },
        "id": "RaeavL8FbGG1",
        "outputId": "03295d11-bf00-4fc6-f0d8-9de5d7a59f0f"
      },
      "source": [
        "#a)\n",
        "def dobrar_elementos(uma_lista):\n",
        "    \"\"\" Reescreve os elementos de uma_lista em uma nova_lista com o dobro de seus valores originais.\n",
        "    \"\"\"\n",
        "    nova_lista = uma_lista[:]\n",
        "    for (i, valor) in enumerate(uma_lista):\n",
        "        novo_elem = 2 * valor\n",
        "        nova_lista[i] = novo_elem\n",
        "\n",
        "    return nova_lista\n",
        "\n",
        "minha_lista = [2, 4, 6]\n",
        "print(minha_lista)\n",
        "minha_lista_dobrada = dobrar_elementos(minha_lista)\n",
        "print(minha_lista_dobrada)\n",
        "print(minha_lista)"
      ],
      "execution_count": 16,
      "outputs": [
        {
          "output_type": "stream",
          "name": "stdout",
          "text": [
            "[2, 4, 6]\n",
            "[4, 8, 12]\n",
            "[2, 4, 6]\n"
          ]
        }
      ]
    },
    {
      "cell_type": "code",
      "metadata": {
        "colab": {
          "base_uri": "https://localhost:8080/"
        },
        "id": "vOrj1R9RbdNH",
        "outputId": "bb8a97be-5504-411a-e621-cd67d4a9aa81"
      },
      "source": [
        "#a) Por List Comprehension\n",
        "\n",
        "def dobrar_elementos1(uma_lista1):\n",
        "    \"\"\" Reescreve os elementos de uma_lista1 em uma nova_lista1 com o dobro de seus valores originais, por list comprehension.\n",
        "    \"\"\"\n",
        "    nova_lista1 = [2*i for i in uma_lista1]\n",
        "    return nova_lista1\n",
        "\n",
        "minha_lista = [2, 4, 6]\n",
        "print(minha_lista)\n",
        "minha_lista_dobrada1 = dobrar_elementos1(minha_lista)\n",
        "print(minha_lista_dobrada1)\n",
        "print(minha_lista)"
      ],
      "execution_count": 35,
      "outputs": [
        {
          "output_type": "stream",
          "name": "stdout",
          "text": [
            "[2, 4, 6]\n",
            "[4, 8, 12]\n",
            "[2, 4, 6]\n"
          ]
        }
      ]
    },
    {
      "cell_type": "code",
      "metadata": {
        "id": "z_agSkiSk2hd"
      },
      "source": [
        "from google.colab import drive\n",
        "drive.mount('/content/drive')"
      ],
      "execution_count": null,
      "outputs": []
    },
    {
      "cell_type": "code",
      "metadata": {
        "colab": {
          "base_uri": "https://localhost:8080/"
        },
        "id": "vzUwnuxYPuW6",
        "outputId": "137d0d66-7557-410a-d5c8-829dd7c888cd"
      },
      "source": [
        "#b)\n",
        "help(dobrar_elementos)\n",
        "help(dobrar_elementos1)"
      ],
      "execution_count": 32,
      "outputs": [
        {
          "output_type": "stream",
          "name": "stdout",
          "text": [
            "Help on function dobrar_elementos in module __main__:\n",
            "\n",
            "dobrar_elementos(uma_lista)\n",
            "    Reescreve os elementos de uma_lista em uma nova_lista com o dobro de seus valores originais.\n",
            "\n",
            "Help on function dobrar_elementos1 in module __main__:\n",
            "\n",
            "dobrar_elementos1(uma_lista1)\n",
            "    Reescreve os elementos de uma_lista em uma nova_lista com o dobro de seus valores originais, por list comprehension.\n",
            "\n"
          ]
        }
      ]
    },
    {
      "cell_type": "markdown",
      "metadata": {
        "id": "XbZhCmlTQFsG"
      },
      "source": [
        "## Exercícios:\n",
        "\n",
        "1) Utilizando um arquivo de dados com várias colunas (por exemplo, o arquivo ```dados_alunos.txt```), faça um histograma com os dados de cada uma das colunas. **Dica**: utilize o ***matplotlib*** para fazer os histogramas."
      ]
    },
    {
      "cell_type": "code",
      "metadata": {
        "id": "kjFRRplmQFWh"
      },
      "source": [
        "import matplotlib.pyplot as plt\n",
        "import numpy as np\n",
        "\n"
      ],
      "execution_count": 3,
      "outputs": []
    },
    {
      "cell_type": "code",
      "metadata": {
        "id": "kpb-ypaThrJV",
        "colab": {
          "base_uri": "https://localhost:8080/"
        },
        "outputId": "ec1f7066-8c5b-499e-a988-3626719e9430"
      },
      "source": [
        "%%writefile dados_alunos.txt\n",
        "18\t1.68\t80\n",
        "18\t1.94\t60\n",
        "18\t1.7\t80\n",
        "18\t1.76\t66\n",
        "19\t1.73\t87.5\n",
        "18\t1.66\t58\n",
        "21\t1.8\t92\n",
        "18\t1.6\t57\n",
        "18\t1.67\t64\n",
        "18\t1.73\t57\n",
        "17\t1.73\t75\n",
        "18\t1.61\t59\n",
        "18\t1.69\t90\n",
        "17\t1.71\t67\n",
        "19\t1.78\t60\n",
        "22\t1.68\t72\n",
        "18\t1.7\t73\n",
        "19\t1.64\t86\n",
        "18\t1.64\t75\n",
        "20\t1.8\t95\n",
        "17\t1.75\t60\n",
        "18\t1.78\t75\n",
        "18\t1.75\t65\n",
        "17\t1.69\t60\n",
        "19\t1.78\t73\n",
        "18\t1.7\t63\n",
        "34\t1.75\t78\n",
        "18\t1.64\t64\n",
        "19\t1.75\t50\n",
        "18\t1.67\t61\n",
        "18\t1.7\t70\n",
        "20\t1.8\t60\n",
        "18\t1.63\t57\n",
        "23\t1.89\t110\n",
        "18\t1.71\t71\n",
        "18\t1.65\t65\n",
        "17\t1.72\t67\n",
        "19\t1.65\t58\n",
        "18\t1.75\t90\n",
        "18\t1.7\t64\n",
        "19\t1.81\t70\n",
        "19\t1.65\t43\n",
        "28\t1.52\t50\n",
        "19\t1.79\t78\n",
        "26\t1.79\t82\n",
        "19\t1.75\t61\n",
        "19\t1.8\t70\n",
        "20\t1.75\t70\n",
        "20\t1.73\t70\n",
        "19\t1.7\t50\n",
        "22\t1.78\t72\n",
        "19\t1.77\t55\n",
        "18\t1.53\t58\n",
        "28\t1.54\t50\n",
        "20\t1.83\t70\n",
        "44\t1.85\t90\n",
        "18\t1.6\t51"
      ],
      "execution_count": 72,
      "outputs": [
        {
          "output_type": "stream",
          "name": "stdout",
          "text": [
            "Overwriting dados_alunos.txt\n"
          ]
        }
      ]
    },
    {
      "cell_type": "code",
      "metadata": {
        "id": "7RCJru7jml1D"
      },
      "source": [
        "%cat dados_alunos.txt"
      ],
      "execution_count": null,
      "outputs": []
    },
    {
      "cell_type": "code",
      "metadata": {
        "colab": {
          "base_uri": "https://localhost:8080/"
        },
        "id": "jRrCCBPZrD-v",
        "outputId": "066924ed-99ba-4702-9bd1-db6508c966ed"
      },
      "source": [
        "lista1 = np.loadtxt(\"dados_alunos.txt\")[:, 0]\n",
        "lista2 = np.loadtxt(\"dados_alunos.txt\")[:, 1]\n",
        "lista3 = np.loadtxt(\"dados_alunos.txt\")[:, 2]\n",
        "\n",
        "print(lista1)\n",
        "print(lista2)\n",
        "print(lista3)"
      ],
      "execution_count": 5,
      "outputs": [
        {
          "output_type": "stream",
          "name": "stdout",
          "text": [
            "[18. 18. 18. 18. 19. 18. 21. 18. 18. 18. 17. 18. 18. 17. 19. 22. 18. 19.\n",
            " 18. 20. 17. 18. 18. 17. 19. 18. 34. 18. 19. 18. 18. 20. 18. 23. 18. 18.\n",
            " 17. 19. 18. 18. 19. 19. 28. 19. 26. 19. 19. 20. 20. 19. 22. 19. 18. 28.\n",
            " 20. 44. 18.]\n",
            "[1.68 1.94 1.7  1.76 1.73 1.66 1.8  1.6  1.67 1.73 1.73 1.61 1.69 1.71\n",
            " 1.78 1.68 1.7  1.64 1.64 1.8  1.75 1.78 1.75 1.69 1.78 1.7  1.75 1.64\n",
            " 1.75 1.67 1.7  1.8  1.63 1.89 1.71 1.65 1.72 1.65 1.75 1.7  1.81 1.65\n",
            " 1.52 1.79 1.79 1.75 1.8  1.75 1.73 1.7  1.78 1.77 1.53 1.54 1.83 1.85\n",
            " 1.6 ]\n",
            "[ 80.   60.   80.   66.   87.5  58.   92.   57.   64.   57.   75.   59.\n",
            "  90.   67.   60.   72.   73.   86.   75.   95.   60.   75.   65.   60.\n",
            "  73.   63.   78.   64.   50.   61.   70.   60.   57.  110.   71.   65.\n",
            "  67.   58.   90.   64.   70.   43.   50.   78.   82.   61.   70.   70.\n",
            "  70.   50.   72.   55.   58.   50.   70.   90.   51. ]\n"
          ]
        }
      ]
    },
    {
      "cell_type": "code",
      "metadata": {
        "colab": {
          "base_uri": "https://localhost:8080/",
          "height": 399
        },
        "id": "2qK4Hw4JsOSB",
        "outputId": "1c2514c9-3b91-474f-8298-75af3fdad697"
      },
      "source": [
        "#Gráfico 1\n",
        "lista1.sort()\n",
        "print(lista1)\n",
        "\n",
        "from collections import Counter\n",
        "\n",
        "counter = Counter(lista1)\n",
        "print(counter)\n",
        "\n",
        "lista1_y = [5, 25, 13, 5, 1, 2, 1, 1, 2, 1, 1]\n",
        "lista1_x = [17, 18, 19, 20, 21, 22, 23, 26, 28, 34, 44]\n",
        "\n",
        "plt.bar(lista1_x, lista1_y)\n",
        "plt.ylabel(\"alunos\")\n",
        "plt.xlabel(\"idade\")\n",
        "plt.title(\"Gráfico 1\")\n",
        "plt.axis([0, 45, 0, 25])\n",
        "\n"
      ],
      "execution_count": 81,
      "outputs": [
        {
          "output_type": "stream",
          "name": "stdout",
          "text": [
            "[17. 17. 17. 17. 17. 18. 18. 18. 18. 18. 18. 18. 18. 18. 18. 18. 18. 18.\n",
            " 18. 18. 18. 18. 18. 18. 18. 18. 18. 18. 18. 18. 19. 19. 19. 19. 19. 19.\n",
            " 19. 19. 19. 19. 19. 19. 19. 20. 20. 20. 20. 20. 21. 22. 22. 23. 26. 28.\n",
            " 28. 34. 44.]\n",
            "Counter({18.0: 25, 19.0: 13, 17.0: 5, 20.0: 5, 22.0: 2, 28.0: 2, 21.0: 1, 23.0: 1, 26.0: 1, 34.0: 1, 44.0: 1})\n"
          ]
        },
        {
          "output_type": "execute_result",
          "data": {
            "text/plain": [
              "(0.0, 45.0, 0.0, 25.0)"
            ]
          },
          "metadata": {},
          "execution_count": 81
        },
        {
          "output_type": "display_data",
          "data": {
            "image/png": "[encoded data removed]",
            "text/plain": [
              "<Figure size 432x288 with 1 Axes>"
            ]
          },
          "metadata": {
            "needs_background": "light"
          }
        }
      ]
    },
    {
      "cell_type": "code",
      "metadata": {
        "colab": {
          "base_uri": "https://localhost:8080/",
          "height": 437
        },
        "id": "QcAYGFq3LCFC",
        "outputId": "320eec10-15f1-45ca-a872-fac4204a242f"
      },
      "source": [
        "#Gráfico 2\n",
        "\n",
        "lista2.sort()\n",
        "print(lista2)\n",
        "\n",
        "from collections import Counter\n",
        "\n",
        "counter = Counter(lista2)\n",
        "print(counter)\n",
        "\n",
        "lista2_x = [1.52, 1.53, 1.54, 1.60, 1.61, 1.63, 1.64, 1.65, 1.66, 1.67, 1.68, 1.69, 1.70, 1.71, 1.72, 1.73, 1.75, 1.76, 1.77, 1.78, 1.79, 1.80, 1.81, 1.83, 1.85, 1.89, 1.94]\n",
        "lista2_y = [1, 1, 1, 2, 1, 1, 3, 3, 1, 2, 2, 1, 6, 2, 1, 4, 7, 1, 1, 4, 2, 4, 1, 1, 1, 1, 1]\n",
        "\n",
        "plt.bar(lista2_x, lista2_y)\n",
        "plt.ylabel(\"alunos\")\n",
        "plt.xlabel(\"Altura\")\n",
        "plt.title(\"Gráfico 2\")\n",
        "plt.axis([0, 3.0, 0, 8])\n"
      ],
      "execution_count": 7,
      "outputs": [
        {
          "output_type": "stream",
          "name": "stdout",
          "text": [
            "[1.52 1.53 1.54 1.6  1.6  1.61 1.63 1.64 1.64 1.64 1.65 1.65 1.65 1.66\n",
            " 1.67 1.67 1.68 1.68 1.69 1.69 1.7  1.7  1.7  1.7  1.7  1.7  1.71 1.71\n",
            " 1.72 1.73 1.73 1.73 1.73 1.75 1.75 1.75 1.75 1.75 1.75 1.75 1.76 1.77\n",
            " 1.78 1.78 1.78 1.78 1.79 1.79 1.8  1.8  1.8  1.8  1.81 1.83 1.85 1.89\n",
            " 1.94]\n",
            "Counter({1.75: 7, 1.7: 6, 1.73: 4, 1.78: 4, 1.8: 4, 1.64: 3, 1.65: 3, 1.6: 2, 1.67: 2, 1.68: 2, 1.69: 2, 1.71: 2, 1.79: 2, 1.52: 1, 1.53: 1, 1.54: 1, 1.61: 1, 1.63: 1, 1.66: 1, 1.72: 1, 1.76: 1, 1.77: 1, 1.81: 1, 1.83: 1, 1.85: 1, 1.89: 1, 1.94: 1})\n"
          ]
        },
        {
          "output_type": "execute_result",
          "data": {
            "text/plain": [
              "(0.0, 3.0, 0.0, 8.0)"
            ]
          },
          "metadata": {},
          "execution_count": 7
        },
        {
          "output_type": "display_data",
          "data": {
            "image/png": "[encoded data removed]",
            "text/plain": [
              "<Figure size 432x288 with 1 Axes>"
            ]
          },
          "metadata": {
            "needs_background": "light"
          }
        }
      ]
    },
    {
      "cell_type": "code",
      "metadata": {
        "colab": {
          "base_uri": "https://localhost:8080/",
          "height": 437
        },
        "id": "5zucddk4OrXm",
        "outputId": "ad4e894c-7d08-4971-834b-e7249c34b7fb"
      },
      "source": [
        "#Gráfico 3\n",
        "lista3.sort()\n",
        "print(lista3)\n",
        "\n",
        "from collections import Counter\n",
        "\n",
        "counter = Counter(lista3)\n",
        "print(counter)\n",
        "\n",
        "lista3_x = [43, 50, 51, 55, 57, 58, 59, 60, 61, 63, 64, 65, 66, 67, 70, 71, 72, 73, 75, 78, 80, 82, 86, 87.5, 90, 92, 95, 110]\n",
        "lista3_y = [1, 4, 1, 1, 3, 3, 1, 5, 2, 1, 3, 2, 1, 2, 6, 1, 2, 2, 3, 2, 2, 1, 1, 1, 3, 1, 1, 1]\n",
        "\n",
        "plt.bar(lista3_x, lista3_y)\n",
        "plt.ylabel(\"alunos\")\n",
        "plt.xlabel(\"Peso\")\n",
        "plt.title(\"Gráfico 3\")\n",
        "plt.axis([0, 115, 0, 7])"
      ],
      "execution_count": 86,
      "outputs": [
        {
          "output_type": "stream",
          "name": "stdout",
          "text": [
            "[ 43.   50.   50.   50.   50.   51.   55.   57.   57.   57.   58.   58.\n",
            "  58.   59.   60.   60.   60.   60.   60.   61.   61.   63.   64.   64.\n",
            "  64.   65.   65.   66.   67.   67.   70.   70.   70.   70.   70.   70.\n",
            "  71.   72.   72.   73.   73.   75.   75.   75.   78.   78.   80.   80.\n",
            "  82.   86.   87.5  90.   90.   90.   92.   95.  110. ]\n",
            "Counter({70.0: 6, 60.0: 5, 50.0: 4, 57.0: 3, 58.0: 3, 64.0: 3, 75.0: 3, 90.0: 3, 61.0: 2, 65.0: 2, 67.0: 2, 72.0: 2, 73.0: 2, 78.0: 2, 80.0: 2, 43.0: 1, 51.0: 1, 55.0: 1, 59.0: 1, 63.0: 1, 66.0: 1, 71.0: 1, 82.0: 1, 86.0: 1, 87.5: 1, 92.0: 1, 95.0: 1, 110.0: 1})\n"
          ]
        },
        {
          "output_type": "execute_result",
          "data": {
            "text/plain": [
              "(0.0, 115.0, 0.0, 7.0)"
            ]
          },
          "metadata": {},
          "execution_count": 86
        },
        {
          "output_type": "display_data",
          "data": {
            "image/png": "[encoded data removed]",
            "text/plain": [
              "<Figure size 432x288 with 1 Axes>"
            ]
          },
          "metadata": {
            "needs_background": "light"
          }
        }
      ]
    },
    {
      "cell_type": "markdown",
      "metadata": {
        "id": "_7bJZU5QQM1u"
      },
      "source": [
        "2) Estude os métodos do módulo ```os``` e faça um script que liste todos os arquivos de um dado diretório assim como de seus subdiretórios. **Dica**: use o método ```walk```."
      ]
    },
    {
      "cell_type": "code",
      "metadata": {
        "colab": {
          "base_uri": "https://localhost:8080/"
        },
        "id": "PscPGTvYQMhN",
        "outputId": "163acc04-a95f-48fc-d78a-0a1f8694e076"
      },
      "source": [
        "import os \n",
        "cwd = os.getcwd() \n",
        "\n",
        "for root, dirs, files in os.walk(\".\", topdown=False):\n",
        "    for name in dirs:\n",
        "        print('diretório: ', os.path.join(root, name))\n",
        "    for name in files:\n",
        "        print('arquivo ou subdiretório: ', os.path.join(root, name))"
      ],
      "execution_count": 17,
      "outputs": [
        {
          "output_type": "stream",
          "name": "stdout",
          "text": [
            "arquivo ou subdiretório:  ./.config/logs/2021.09.16/13.40.04.258538.log\n",
            "arquivo ou subdiretório:  ./.config/logs/2021.09.16/13.39.08.594436.log\n",
            "arquivo ou subdiretório:  ./.config/logs/2021.09.16/13.40.04.910768.log\n",
            "arquivo ou subdiretório:  ./.config/logs/2021.09.16/13.39.47.632524.log\n",
            "arquivo ou subdiretório:  ./.config/logs/2021.09.16/13.39.26.986455.log\n",
            "arquivo ou subdiretório:  ./.config/logs/2021.09.16/13.39.42.091206.log\n",
            "diretório:  ./.config/logs/2021.09.16\n",
            "arquivo ou subdiretório:  ./.config/configurations/config_default\n",
            "diretório:  ./.config/logs\n",
            "diretório:  ./.config/configurations\n",
            "arquivo ou subdiretório:  ./.config/config_sentinel\n",
            "arquivo ou subdiretório:  ./.config/gce\n",
            "arquivo ou subdiretório:  ./.config/.last_opt_in_prompt.yaml\n",
            "arquivo ou subdiretório:  ./.config/.last_update_check.json\n",
            "arquivo ou subdiretório:  ./.config/active_config\n",
            "arquivo ou subdiretório:  ./.config/.last_survey_prompt.yaml\n",
            "arquivo ou subdiretório:  ./sample_data/anscombe.json\n",
            "arquivo ou subdiretório:  ./sample_data/README.md\n",
            "arquivo ou subdiretório:  ./sample_data/mnist_test.csv\n",
            "arquivo ou subdiretório:  ./sample_data/california_housing_train.csv\n",
            "arquivo ou subdiretório:  ./sample_data/california_housing_test.csv\n",
            "arquivo ou subdiretório:  ./sample_data/mnist_train_small.csv\n",
            "diretório:  ./.config\n",
            "diretório:  ./sample_data\n",
            "arquivo ou subdiretório:  ./dados_alunos.txt\n"
          ]
        }
      ]
    },
    {
      "cell_type": "markdown",
      "metadata": {
        "id": "LxBrtQ0tQt20"
      },
      "source": [
        "3) **Reescreva o script dessa aula, ```lcount.py``` na forma de uma módulo. Qual o valor da variável ```__name__``` quando o módulo é importado?**"
      ]
    },
    {
      "cell_type": "code",
      "metadata": {
        "colab": {
          "base_uri": "https://localhost:8080/"
        },
        "id": "vec6AP1uQwjH",
        "outputId": "fb0d7230-64d0-42a3-e793-b9b37f8a5b7a"
      },
      "source": [
        "%%writefile lcount.py\n",
        "\n",
        "def linecount(filename):\n",
        "    count = 0\n",
        "    for line in open(filename):\n",
        "        count += 1\n",
        "    return count\n",
        "\n",
        "linecount('lcount.py')"
      ],
      "execution_count": 19,
      "outputs": [
        {
          "output_type": "stream",
          "name": "stdout",
          "text": [
            "Writing lcount.py\n"
          ]
        }
      ]
    },
    {
      "cell_type": "code",
      "metadata": {
        "colab": {
          "base_uri": "https://localhost:8080/"
        },
        "id": "KXeb3Nr0-929",
        "outputId": "d6383405-a6d1-47bd-d9ab-8ebf9fd49f8b"
      },
      "source": [
        "import lcount\n",
        "\n",
        "print(__name__)"
      ],
      "execution_count": 20,
      "outputs": [
        {
          "output_type": "stream",
          "name": "stdout",
          "text": [
            "__main__\n"
          ]
        }
      ]
    },
    {
      "cell_type": "markdown",
      "metadata": {
        "id": "OLIEXglUQwzt"
      },
      "source": [
        "4) Escreva uma função chamada ler_arquivos que tome como argumento um nome de arquivo, leia um arquivo com um número qualquer de colunas e retorne um **dicionário** que tenha como *keys* os números das colunas e como valor uma lista dos valores associados a cada coluna do arquivo. Use o arquivo dados_alunos.txt. Caso o arquivo tiver o cabeçalho das colunas, p.ex. dados_alunos_cabecalho.txt, a key deve ser a palavra do cabeçalho.\n",
        "\n",
        "   * Caso não queria usar dicionários, você pode pensar em uma estrutura de dados alternativa para armazenar os dados do arquivo, como por exemplo uma ou mais listas.\n",
        "   * Também pode usar funções já existentes nos módulos de Python `numpy` ou `pandas` para ler arquivos de texto e armazenar nas estruturas desses módulos (`DataFrames` ou `arrays`).\n",
        "   * Adapte a função acima para, se ocorrer um erro ao abrir, ler ou fechar arquivos, o programa capturar a exceção, imprimir uma mensagem de erro e sair."
      ]
    },
    {
      "cell_type": "code",
      "metadata": {
        "colab": {
          "base_uri": "https://localhost:8080/"
        },
        "id": "ItG5v3M4Qzgo",
        "outputId": "f98aeb52-2ab7-4f63-8331-6e1c754b39a0"
      },
      "source": [
        "def ler_arquivos(nome_arquivo):\n",
        "  try:    \n",
        "    fin = open(nome_arquivo)\n",
        "    lista1 = np.loadtxt(nome_arquivo)[:, 0]\n",
        "    lista2 = np.loadtxt(nome_arquivo)[:, 1]\n",
        "    lista3 = np.loadtxt(nome_arquivo)[:, 2]\n",
        "    print('coluna 1: ', lista1)\n",
        "    print('coluna 2: ', lista2)\n",
        "    print('coluna 3: ', lista3)\n",
        "    \n",
        "  except:\n",
        "    print('Algo de errado aconteceu.')\n",
        "\n",
        "ler_arquivos('dados_alunos.txt')\n"
      ],
      "execution_count": 79,
      "outputs": [
        {
          "output_type": "stream",
          "name": "stdout",
          "text": [
            "coluna 1:  [18. 18. 18. 18. 19. 18. 21. 18. 18. 18. 17. 18. 18. 17. 19. 22. 18. 19.\n",
            " 18. 20. 17. 18. 18. 17. 19. 18. 34. 18. 19. 18. 18. 20. 18. 23. 18. 18.\n",
            " 17. 19. 18. 18. 19. 19. 28. 19. 26. 19. 19. 20. 20. 19. 22. 19. 18. 28.\n",
            " 20. 44. 18.]\n",
            "coluna 2:  [1.68 1.94 1.7  1.76 1.73 1.66 1.8  1.6  1.67 1.73 1.73 1.61 1.69 1.71\n",
            " 1.78 1.68 1.7  1.64 1.64 1.8  1.75 1.78 1.75 1.69 1.78 1.7  1.75 1.64\n",
            " 1.75 1.67 1.7  1.8  1.63 1.89 1.71 1.65 1.72 1.65 1.75 1.7  1.81 1.65\n",
            " 1.52 1.79 1.79 1.75 1.8  1.75 1.73 1.7  1.78 1.77 1.53 1.54 1.83 1.85\n",
            " 1.6 ]\n",
            "coluna 3:  [ 80.   60.   80.   66.   87.5  58.   92.   57.   64.   57.   75.   59.\n",
            "  90.   67.   60.   72.   73.   86.   75.   95.   60.   75.   65.   60.\n",
            "  73.   63.   78.   64.   50.   61.   70.   60.   57.  110.   71.   65.\n",
            "  67.   58.   90.   64.   70.   43.   50.   78.   82.   61.   70.   70.\n",
            "  70.   50.   72.   55.   58.   50.   70.   90.   51. ]\n"
          ]
        }
      ]
    },
    {
      "cell_type": "code",
      "metadata": {
        "colab": {
          "base_uri": "https://localhost:8080/"
        },
        "id": "hjfR5omaKNkx",
        "outputId": "6da8387d-a066-4404-eb0c-76ceedaaf283"
      },
      "source": [
        "import pandas as pd\n",
        "\n",
        "def ler_arquivos1(nome_arquivo):\n",
        "  try:    \n",
        "    fin = open(nome_arquivo)\n",
        "    for i in range(3):\n",
        "      lista = np.loadtxt(nome_arquivo)[:, i]\n",
        "      print('coluna', i+1, ': ', lista)\n",
        "    \n",
        "  except:\n",
        "    print('Algo de errado aconteceu.')\n",
        "\n",
        "ler_arquivos1('dados_alunos.txt')"
      ],
      "execution_count": 64,
      "outputs": [
        {
          "output_type": "stream",
          "name": "stdout",
          "text": [
            "coluna 1 :  [18. 18. 18. 18. 19. 18. 21. 18. 18. 18. 17. 18. 18. 17. 19. 22. 18. 19.\n",
            " 18. 20. 17. 18. 18. 17. 19. 18. 34. 18. 19. 18. 18. 20. 18. 23. 18. 18.\n",
            " 17. 19. 18. 18. 19. 19. 28. 19. 26. 19. 19. 20. 20. 19. 22. 19. 18. 28.\n",
            " 20. 44. 18.]\n",
            "coluna 2 :  [1.68 1.94 1.7  1.76 1.73 1.66 1.8  1.6  1.67 1.73 1.73 1.61 1.69 1.71\n",
            " 1.78 1.68 1.7  1.64 1.64 1.8  1.75 1.78 1.75 1.69 1.78 1.7  1.75 1.64\n",
            " 1.75 1.67 1.7  1.8  1.63 1.89 1.71 1.65 1.72 1.65 1.75 1.7  1.81 1.65\n",
            " 1.52 1.79 1.79 1.75 1.8  1.75 1.73 1.7  1.78 1.77 1.53 1.54 1.83 1.85\n",
            " 1.6 ]\n",
            "coluna 3 :  [ 80.   60.   80.   66.   87.5  58.   92.   57.   64.   57.   75.   59.\n",
            "  90.   67.   60.   72.   73.   86.   75.   95.   60.   75.   65.   60.\n",
            "  73.   63.   78.   64.   50.   61.   70.   60.   57.  110.   71.   65.\n",
            "  67.   58.   90.   64.   70.   43.   50.   78.   82.   61.   70.   70.\n",
            "  70.   50.   72.   55.   58.   50.   70.   90.   51. ]\n"
          ]
        }
      ]
    },
    {
      "cell_type": "markdown",
      "metadata": {
        "id": "em6I08ZzQzw0"
      },
      "source": [
        "5) **Adapte o script acima para ser um módulo.**"
      ]
    },
    {
      "cell_type": "code",
      "metadata": {
        "colab": {
          "base_uri": "https://localhost:8080/"
        },
        "id": "_3vpHQfTQ3XE",
        "outputId": "b3f06e20-c9de-4768-b982-85b5835202e2"
      },
      "source": [
        "%%writefile larquivos.py\n",
        "def ler_arquivos(nome_arquivo):\n",
        "  try:    \n",
        "    fin = open(nome_arquivo)\n",
        "    lista1 = np.loadtxt(nome_arquivo)[:, 0]\n",
        "    lista2 = np.loadtxt(nome_arquivo)[:, 1]\n",
        "    lista3 = np.loadtxt(nome_arquivo)[:, 2]\n",
        "    print('coluna 1: ', lista1)\n",
        "    print('coluna 2: ', lista2)\n",
        "    print('coluna 3: ', lista3)\n",
        "\n",
        "  except:\n",
        "    print('Algo de errado aconteceu.')\n"
      ],
      "execution_count": 80,
      "outputs": [
        {
          "output_type": "stream",
          "name": "stdout",
          "text": [
            "Overwriting larquivos.py\n"
          ]
        }
      ]
    },
    {
      "cell_type": "code",
      "metadata": {
        "colab": {
          "base_uri": "https://localhost:8080/"
        },
        "id": "joB1Gp_bLI2G",
        "outputId": "d7ae158c-7087-45f2-daea-6ef02f913632"
      },
      "source": [
        "%cat larquivos.py"
      ],
      "execution_count": 81,
      "outputs": [
        {
          "output_type": "stream",
          "name": "stdout",
          "text": [
            "def ler_arquivos(nome_arquivo):\n",
            "  try:    \n",
            "    fin = open(nome_arquivo)\n",
            "    lista1 = np.loadtxt(nome_arquivo)[:, 0]\n",
            "    lista2 = np.loadtxt(nome_arquivo)[:, 1]\n",
            "    lista3 = np.loadtxt(nome_arquivo)[:, 2]\n",
            "    print('coluna 1: ', lista1)\n",
            "    print('coluna 2: ', lista2)\n",
            "    print('coluna 3: ', lista3)\n",
            "\n",
            "  except:\n",
            "    print('Algo de errado aconteceu.')"
          ]
        }
      ]
    },
    {
      "cell_type": "code",
      "metadata": {
        "colab": {
          "base_uri": "https://localhost:8080/"
        },
        "id": "RuvVefwXIkwx",
        "outputId": "bc3d507b-1697-4b00-df7d-8a580ea4e198"
      },
      "source": [
        "import larquivos\n",
        "\n",
        "ler_arquivos('dados_alunos.txt')"
      ],
      "execution_count": 82,
      "outputs": [
        {
          "output_type": "stream",
          "name": "stdout",
          "text": [
            "coluna 1:  [18. 18. 18. 18. 19. 18. 21. 18. 18. 18. 17. 18. 18. 17. 19. 22. 18. 19.\n",
            " 18. 20. 17. 18. 18. 17. 19. 18. 34. 18. 19. 18. 18. 20. 18. 23. 18. 18.\n",
            " 17. 19. 18. 18. 19. 19. 28. 19. 26. 19. 19. 20. 20. 19. 22. 19. 18. 28.\n",
            " 20. 44. 18.]\n",
            "coluna 2:  [1.68 1.94 1.7  1.76 1.73 1.66 1.8  1.6  1.67 1.73 1.73 1.61 1.69 1.71\n",
            " 1.78 1.68 1.7  1.64 1.64 1.8  1.75 1.78 1.75 1.69 1.78 1.7  1.75 1.64\n",
            " 1.75 1.67 1.7  1.8  1.63 1.89 1.71 1.65 1.72 1.65 1.75 1.7  1.81 1.65\n",
            " 1.52 1.79 1.79 1.75 1.8  1.75 1.73 1.7  1.78 1.77 1.53 1.54 1.83 1.85\n",
            " 1.6 ]\n",
            "coluna 3:  [ 80.   60.   80.   66.   87.5  58.   92.   57.   64.   57.   75.   59.\n",
            "  90.   67.   60.   72.   73.   86.   75.   95.   60.   75.   65.   60.\n",
            "  73.   63.   78.   64.   50.   61.   70.   60.   57.  110.   71.   65.\n",
            "  67.   58.   90.   64.   70.   43.   50.   78.   82.   61.   70.   70.\n",
            "  70.   50.   72.   55.   58.   50.   70.   90.   51. ]\n"
          ]
        }
      ]
    },
    {
      "cell_type": "markdown",
      "metadata": {
        "id": "TuuduTyKQ3ok"
      },
      "source": [
        "**6) Escreva um script que importe o módulo criado acima e faça um histograma para cada coluna do arquivo, com seus respectivos valores. Use o dicionário ou a estrutura de dados criada em 1).**"
      ]
    },
    {
      "cell_type": "code",
      "metadata": {
        "colab": {
          "base_uri": "https://localhost:8080/"
        },
        "id": "WZ3hCuWxQ6dt",
        "outputId": "fdcb5e99-6c7a-4bb3-d0a1-ba23908ba1d3"
      },
      "source": [
        "import larquivos\n",
        "\n",
        "ler_arquivos('dados_alunos.txt')"
      ],
      "execution_count": 83,
      "outputs": [
        {
          "output_type": "stream",
          "name": "stdout",
          "text": [
            "coluna 1:  [18. 18. 18. 18. 19. 18. 21. 18. 18. 18. 17. 18. 18. 17. 19. 22. 18. 19.\n",
            " 18. 20. 17. 18. 18. 17. 19. 18. 34. 18. 19. 18. 18. 20. 18. 23. 18. 18.\n",
            " 17. 19. 18. 18. 19. 19. 28. 19. 26. 19. 19. 20. 20. 19. 22. 19. 18. 28.\n",
            " 20. 44. 18.]\n",
            "coluna 2:  [1.68 1.94 1.7  1.76 1.73 1.66 1.8  1.6  1.67 1.73 1.73 1.61 1.69 1.71\n",
            " 1.78 1.68 1.7  1.64 1.64 1.8  1.75 1.78 1.75 1.69 1.78 1.7  1.75 1.64\n",
            " 1.75 1.67 1.7  1.8  1.63 1.89 1.71 1.65 1.72 1.65 1.75 1.7  1.81 1.65\n",
            " 1.52 1.79 1.79 1.75 1.8  1.75 1.73 1.7  1.78 1.77 1.53 1.54 1.83 1.85\n",
            " 1.6 ]\n",
            "coluna 3:  [ 80.   60.   80.   66.   87.5  58.   92.   57.   64.   57.   75.   59.\n",
            "  90.   67.   60.   72.   73.   86.   75.   95.   60.   75.   65.   60.\n",
            "  73.   63.   78.   64.   50.   61.   70.   60.   57.  110.   71.   65.\n",
            "  67.   58.   90.   64.   70.   43.   50.   78.   82.   61.   70.   70.\n",
            "  70.   50.   72.   55.   58.   50.   70.   90.   51. ]\n"
          ]
        }
      ]
    },
    {
      "cell_type": "code",
      "metadata": {
        "colab": {
          "base_uri": "https://localhost:8080/",
          "height": 399
        },
        "id": "qpqYMKiWMrCD",
        "outputId": "d9a7e409-f717-4c7f-b10b-985e3770274a"
      },
      "source": [
        "#Gráfico 1\n",
        "lista1.sort()\n",
        "print(lista1)\n",
        "\n",
        "from collections import Counter\n",
        "\n",
        "counter = Counter(lista1)\n",
        "print(counter)\n",
        "\n",
        "lista1_y = [5, 25, 13, 5, 1, 2, 1, 1, 2, 1, 1]\n",
        "lista1_x = [17, 18, 19, 20, 21, 22, 23, 26, 28, 34, 44]\n",
        "\n",
        "plt.bar(lista1_x, lista1_y)\n",
        "plt.ylabel(\"alunos\")\n",
        "plt.xlabel(\"idade\")\n",
        "plt.title(\"Gráfico 1\")\n",
        "plt.axis([0, 45, 0, 25])\n"
      ],
      "execution_count": 84,
      "outputs": [
        {
          "output_type": "stream",
          "name": "stdout",
          "text": [
            "[17. 17. 17. 17. 17. 18. 18. 18. 18. 18. 18. 18. 18. 18. 18. 18. 18. 18.\n",
            " 18. 18. 18. 18. 18. 18. 18. 18. 18. 18. 18. 18. 19. 19. 19. 19. 19. 19.\n",
            " 19. 19. 19. 19. 19. 19. 19. 20. 20. 20. 20. 20. 21. 22. 22. 23. 26. 28.\n",
            " 28. 34. 44.]\n",
            "Counter({18.0: 25, 19.0: 13, 17.0: 5, 20.0: 5, 22.0: 2, 28.0: 2, 21.0: 1, 23.0: 1, 26.0: 1, 34.0: 1, 44.0: 1})\n"
          ]
        },
        {
          "output_type": "execute_result",
          "data": {
            "text/plain": [
              "(0.0, 45.0, 0.0, 25.0)"
            ]
          },
          "metadata": {},
          "execution_count": 84
        },
        {
          "output_type": "display_data",
          "data": {
            "image/png": "[encoded data removed]",
            "text/plain": [
              "<Figure size 432x288 with 1 Axes>"
            ]
          },
          "metadata": {
            "needs_background": "light"
          }
        }
      ]
    },
    {
      "cell_type": "code",
      "metadata": {
        "colab": {
          "base_uri": "https://localhost:8080/",
          "height": 437
        },
        "id": "idfE7pv5M1uK",
        "outputId": "bd21817a-708b-4607-95cf-cc7b0377d85a"
      },
      "source": [
        "#Gráfico 2\n",
        "\n",
        "lista2.sort()\n",
        "print(lista2)\n",
        "\n",
        "from collections import Counter\n",
        "\n",
        "counter = Counter(lista2)\n",
        "print(counter)\n",
        "\n",
        "lista2_x = [1.52, 1.53, 1.54, 1.60, 1.61, 1.63, 1.64, 1.65, 1.66, 1.67, 1.68, 1.69, 1.70, 1.71, 1.72, 1.73, 1.75, 1.76, 1.77, 1.78, 1.79, 1.80, 1.81, 1.83, 1.85, 1.89, 1.94]\n",
        "lista2_y = [1, 1, 1, 2, 1, 1, 3, 3, 1, 2, 2, 1, 6, 2, 1, 4, 7, 1, 1, 4, 2, 4, 1, 1, 1, 1, 1]\n",
        "\n",
        "plt.bar(lista2_x, lista2_y)\n",
        "plt.ylabel(\"alunos\")\n",
        "plt.xlabel(\"Altura\")\n",
        "plt.title(\"Gráfico 2\")\n",
        "plt.axis([0, 3.0, 0, 8])"
      ],
      "execution_count": 86,
      "outputs": [
        {
          "output_type": "stream",
          "name": "stdout",
          "text": [
            "[1.52 1.53 1.54 1.6  1.6  1.61 1.63 1.64 1.64 1.64 1.65 1.65 1.65 1.66\n",
            " 1.67 1.67 1.68 1.68 1.69 1.69 1.7  1.7  1.7  1.7  1.7  1.7  1.71 1.71\n",
            " 1.72 1.73 1.73 1.73 1.73 1.75 1.75 1.75 1.75 1.75 1.75 1.75 1.76 1.77\n",
            " 1.78 1.78 1.78 1.78 1.79 1.79 1.8  1.8  1.8  1.8  1.81 1.83 1.85 1.89\n",
            " 1.94]\n",
            "Counter({1.75: 7, 1.7: 6, 1.73: 4, 1.78: 4, 1.8: 4, 1.64: 3, 1.65: 3, 1.6: 2, 1.67: 2, 1.68: 2, 1.69: 2, 1.71: 2, 1.79: 2, 1.52: 1, 1.53: 1, 1.54: 1, 1.61: 1, 1.63: 1, 1.66: 1, 1.72: 1, 1.76: 1, 1.77: 1, 1.81: 1, 1.83: 1, 1.85: 1, 1.89: 1, 1.94: 1})\n"
          ]
        },
        {
          "output_type": "execute_result",
          "data": {
            "text/plain": [
              "(0.0, 3.0, 0.0, 8.0)"
            ]
          },
          "metadata": {},
          "execution_count": 86
        },
        {
          "output_type": "display_data",
          "data": {
            "image/png": "[encoded data removed]",
            "text/plain": [
              "<Figure size 432x288 with 1 Axes>"
            ]
          },
          "metadata": {
            "needs_background": "light"
          }
        }
      ]
    },
    {
      "cell_type": "code",
      "metadata": {
        "colab": {
          "base_uri": "https://localhost:8080/",
          "height": 437
        },
        "id": "1hSkN0LVM6Y-",
        "outputId": "737a0eb9-e53b-4551-ebbb-b1f064c74538"
      },
      "source": [
        "#Gráfico 3\n",
        "lista3.sort()\n",
        "print(lista3)\n",
        "\n",
        "from collections import Counter\n",
        "\n",
        "counter = Counter(lista3)\n",
        "print(counter)\n",
        "\n",
        "lista3_x = [43, 50, 51, 55, 57, 58, 59, 60, 61, 63, 64, 65, 66, 67, 70, 71, 72, 73, 75, 78, 80, 82, 86, 87.5, 90, 92, 95, 110]\n",
        "lista3_y = [1, 4, 1, 1, 3, 3, 1, 5, 2, 1, 3, 2, 1, 2, 6, 1, 2, 2, 3, 2, 2, 1, 1, 1, 3, 1, 1, 1]\n",
        "\n",
        "plt.bar(lista3_x, lista3_y)\n",
        "plt.ylabel(\"alunos\")\n",
        "plt.xlabel(\"Peso\")\n",
        "plt.title(\"Gráfico 3\")\n",
        "plt.axis([0, 115, 0, 7])"
      ],
      "execution_count": 85,
      "outputs": [
        {
          "output_type": "stream",
          "name": "stdout",
          "text": [
            "[ 43.   50.   50.   50.   50.   51.   55.   57.   57.   57.   58.   58.\n",
            "  58.   59.   60.   60.   60.   60.   60.   61.   61.   63.   64.   64.\n",
            "  64.   65.   65.   66.   67.   67.   70.   70.   70.   70.   70.   70.\n",
            "  71.   72.   72.   73.   73.   75.   75.   75.   78.   78.   80.   80.\n",
            "  82.   86.   87.5  90.   90.   90.   92.   95.  110. ]\n",
            "Counter({70.0: 6, 60.0: 5, 50.0: 4, 57.0: 3, 58.0: 3, 64.0: 3, 75.0: 3, 90.0: 3, 61.0: 2, 65.0: 2, 67.0: 2, 72.0: 2, 73.0: 2, 78.0: 2, 80.0: 2, 43.0: 1, 51.0: 1, 55.0: 1, 59.0: 1, 63.0: 1, 66.0: 1, 71.0: 1, 82.0: 1, 86.0: 1, 87.5: 1, 92.0: 1, 95.0: 1, 110.0: 1})\n"
          ]
        },
        {
          "output_type": "execute_result",
          "data": {
            "text/plain": [
              "(0.0, 115.0, 0.0, 7.0)"
            ]
          },
          "metadata": {},
          "execution_count": 85
        },
        {
          "output_type": "display_data",
          "data": {
            "image/png": "[encoded data removed]",
            "text/plain": [
              "<Figure size 432x288 with 1 Axes>"
            ]
          },
          "metadata": {
            "needs_background": "light"
          }
        }
      ]
    },
    {
      "cell_type": "markdown",
      "metadata": {
        "id": "QwRYe_eWQ6mV"
      },
      "source": [
        "7) Adicione uma função ao script criado em 6), que calcule o desvio padrão amostral, desvio padrão populacional e média de cada distribuição representada nos histogramas acima. Para tal, use o módulo `statistics` do Python ou outro módulo de Python (`numpy`, `scipy`)."
      ]
    },
    {
      "cell_type": "code",
      "metadata": {
        "colab": {
          "base_uri": "https://localhost:8080/",
          "height": 451
        },
        "id": "ZqbQLX4PQ84X",
        "outputId": "20fb02a9-4684-405f-f3e0-4fa8c5bbebf1"
      },
      "source": [
        "import statistics\n",
        "#Gráfico 1\n",
        "lista1.sort()\n",
        "print(lista1)\n",
        "\n",
        "from collections import Counter\n",
        "\n",
        "counter = Counter(lista1)\n",
        "print(counter)\n",
        "\n",
        "lista1_y = [5, 25, 13, 5, 1, 2, 1, 1, 2, 1, 1]\n",
        "lista1_x = [17, 18, 19, 20, 21, 22, 23, 26, 28, 34, 44]\n",
        "\n",
        "print('desvio padrão populacional da coluna 1: ', statistics.pstdev(lista1))\n",
        "print('desvio padrão amostral da coluna 1: ', statistics.stdev(lista1))\n",
        "print('média dos dados da coluna 1: ', statistics.mean(lista1))\n",
        "\n",
        "plt.bar(lista1_x, lista1_y)\n",
        "plt.ylabel(\"alunos\")\n",
        "plt.xlabel(\"idade\")\n",
        "plt.title(\"Gráfico 1\")\n",
        "plt.axis([0, 45, 0, 25])\n"
      ],
      "execution_count": 89,
      "outputs": [
        {
          "output_type": "stream",
          "name": "stdout",
          "text": [
            "[17. 17. 17. 17. 17. 18. 18. 18. 18. 18. 18. 18. 18. 18. 18. 18. 18. 18.\n",
            " 18. 18. 18. 18. 18. 18. 18. 18. 18. 18. 18. 18. 19. 19. 19. 19. 19. 19.\n",
            " 19. 19. 19. 19. 19. 19. 19. 20. 20. 20. 20. 20. 21. 22. 22. 23. 26. 28.\n",
            " 28. 34. 44.]\n",
            "Counter({18.0: 25, 19.0: 13, 17.0: 5, 20.0: 5, 22.0: 2, 28.0: 2, 21.0: 1, 23.0: 1, 26.0: 1, 34.0: 1, 44.0: 1})\n",
            "desvio padrão populacional da coluna 1:  4.413387953566483\n",
            "desvio padrão amostral da coluna 1:  4.452618840226598\n",
            "média dos dados da coluna 1:  19.82456140350877\n"
          ]
        },
        {
          "output_type": "execute_result",
          "data": {
            "text/plain": [
              "(0.0, 45.0, 0.0, 25.0)"
            ]
          },
          "metadata": {},
          "execution_count": 89
        },
        {
          "output_type": "display_data",
          "data": {
            "image/png": "[encoded data removed]",
            "text/plain": [
              "<Figure size 432x288 with 1 Axes>"
            ]
          },
          "metadata": {
            "needs_background": "light"
          }
        }
      ]
    },
    {
      "cell_type": "code",
      "metadata": {
        "colab": {
          "base_uri": "https://localhost:8080/",
          "height": 489
        },
        "id": "VTbUs6V4OJiI",
        "outputId": "1d254e1b-c520-4ee6-cbf2-9cd4c6590675"
      },
      "source": [
        "import statistics\n",
        "#Gráfico 2\n",
        "\n",
        "lista2.sort()\n",
        "print(lista2)\n",
        "\n",
        "from collections import Counter\n",
        "\n",
        "counter = Counter(lista2)\n",
        "print(counter)\n",
        "\n",
        "lista2_x = [1.52, 1.53, 1.54, 1.60, 1.61, 1.63, 1.64, 1.65, 1.66, 1.67, 1.68, 1.69, 1.70, 1.71, 1.72, 1.73, 1.75, 1.76, 1.77, 1.78, 1.79, 1.80, 1.81, 1.83, 1.85, 1.89, 1.94]\n",
        "lista2_y = [1, 1, 1, 2, 1, 1, 3, 3, 1, 2, 2, 1, 6, 2, 1, 4, 7, 1, 1, 4, 2, 4, 1, 1, 1, 1, 1]\n",
        "\n",
        "print('desvio padrão populacional da coluna 2: ', statistics.pstdev(lista2))\n",
        "print('desvio padrão amostral da coluna 2: ', statistics.stdev(lista2))\n",
        "print('média dos dados da coluna 2: ', statistics.mean(lista2))\n",
        "\n",
        "\n",
        "plt.bar(lista2_x, lista2_y)\n",
        "plt.ylabel(\"alunos\")\n",
        "plt.xlabel(\"Altura\")\n",
        "plt.title(\"Gráfico 2\")\n",
        "plt.axis([0, 3.0, 0, 8])"
      ],
      "execution_count": 90,
      "outputs": [
        {
          "output_type": "stream",
          "name": "stdout",
          "text": [
            "[1.52 1.53 1.54 1.6  1.6  1.61 1.63 1.64 1.64 1.64 1.65 1.65 1.65 1.66\n",
            " 1.67 1.67 1.68 1.68 1.69 1.69 1.7  1.7  1.7  1.7  1.7  1.7  1.71 1.71\n",
            " 1.72 1.73 1.73 1.73 1.73 1.75 1.75 1.75 1.75 1.75 1.75 1.75 1.76 1.77\n",
            " 1.78 1.78 1.78 1.78 1.79 1.79 1.8  1.8  1.8  1.8  1.81 1.83 1.85 1.89\n",
            " 1.94]\n",
            "Counter({1.75: 7, 1.7: 6, 1.73: 4, 1.78: 4, 1.8: 4, 1.64: 3, 1.65: 3, 1.6: 2, 1.67: 2, 1.68: 2, 1.69: 2, 1.71: 2, 1.79: 2, 1.52: 1, 1.53: 1, 1.54: 1, 1.61: 1, 1.63: 1, 1.66: 1, 1.72: 1, 1.76: 1, 1.77: 1, 1.81: 1, 1.83: 1, 1.85: 1, 1.89: 1, 1.94: 1})\n",
            "desvio padrão populacional da coluna 2:  0.08189168502559452\n",
            "desvio padrão amostral da coluna 2:  0.08261962543043672\n",
            "média dos dados da coluna 2:  1.7175438596491228\n"
          ]
        },
        {
          "output_type": "execute_result",
          "data": {
            "text/plain": [
              "(0.0, 3.0, 0.0, 8.0)"
            ]
          },
          "metadata": {},
          "execution_count": 90
        },
        {
          "output_type": "display_data",
          "data": {
            "image/png": "[encoded data removed]",
            "text/plain": [
              "<Figure size 432x288 with 1 Axes>"
            ]
          },
          "metadata": {
            "needs_background": "light"
          }
        }
      ]
    },
    {
      "cell_type": "code",
      "metadata": {
        "colab": {
          "base_uri": "https://localhost:8080/",
          "height": 489
        },
        "id": "W0rSDMOsOPgb",
        "outputId": "04620931-2c91-4497-d0e9-4d834a904543"
      },
      "source": [
        "import statistics\n",
        "#Gráfico 3\n",
        "lista3.sort()\n",
        "print(lista3)\n",
        "\n",
        "from collections import Counter\n",
        "\n",
        "counter = Counter(lista3)\n",
        "print(counter)\n",
        "\n",
        "lista3_x = [43, 50, 51, 55, 57, 58, 59, 60, 61, 63, 64, 65, 66, 67, 70, 71, 72, 73, 75, 78, 80, 82, 86, 87.5, 90, 92, 95, 110]\n",
        "lista3_y = [1, 4, 1, 1, 3, 3, 1, 5, 2, 1, 3, 2, 1, 2, 6, 1, 2, 2, 3, 2, 2, 1, 1, 1, 3, 1, 1, 1]\n",
        "\n",
        "print('desvio padrão populacional da coluna 3: ', statistics.pstdev(lista3))\n",
        "print('desvio padrão amostral da coluna 3: ', statistics.stdev(lista3))\n",
        "print('média dos dados da coluna 3: ', statistics.mean(lista3))\n",
        "\n",
        "plt.bar(lista3_x, lista3_y)\n",
        "plt.ylabel(\"alunos\")\n",
        "plt.xlabel(\"Peso\")\n",
        "plt.title(\"Gráfico 3\")\n",
        "plt.axis([0, 115, 0, 7])"
      ],
      "execution_count": 91,
      "outputs": [
        {
          "output_type": "stream",
          "name": "stdout",
          "text": [
            "[ 43.   50.   50.   50.   50.   51.   55.   57.   57.   57.   58.   58.\n",
            "  58.   59.   60.   60.   60.   60.   60.   61.   61.   63.   64.   64.\n",
            "  64.   65.   65.   66.   67.   67.   70.   70.   70.   70.   70.   70.\n",
            "  71.   72.   72.   73.   73.   75.   75.   75.   78.   78.   80.   80.\n",
            "  82.   86.   87.5  90.   90.   90.   92.   95.  110. ]\n",
            "Counter({70.0: 6, 60.0: 5, 50.0: 4, 57.0: 3, 58.0: 3, 64.0: 3, 75.0: 3, 90.0: 3, 61.0: 2, 65.0: 2, 67.0: 2, 72.0: 2, 73.0: 2, 78.0: 2, 80.0: 2, 43.0: 1, 51.0: 1, 55.0: 1, 59.0: 1, 63.0: 1, 66.0: 1, 71.0: 1, 82.0: 1, 86.0: 1, 87.5: 1, 92.0: 1, 95.0: 1, 110.0: 1})\n",
            "desvio padrão populacional da coluna 3:  13.108855986056064\n",
            "desvio padrão amostral da coluna 3:  13.225381441974152\n",
            "média dos dados da coluna 3:  68.5\n"
          ]
        },
        {
          "output_type": "execute_result",
          "data": {
            "text/plain": [
              "(0.0, 115.0, 0.0, 7.0)"
            ]
          },
          "metadata": {},
          "execution_count": 91
        },
        {
          "output_type": "display_data",
          "data": {
            "image/png": "[encoded data removed]",
            "text/plain": [
              "<Figure size 432x288 with 1 Axes>"
            ]
          },
          "metadata": {
            "needs_background": "light"
          }
        }
      ]
    }
  ]
}