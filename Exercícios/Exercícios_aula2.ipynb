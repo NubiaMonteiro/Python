{
  "nbformat": 4,
  "nbformat_minor": 0,
  "metadata": {
    "colab": {
      "name": "Exercícios_aula2.ipynb",
      "provenance": [],
      "authorship_tag": "ABX9TyNT8xaFFHDifMk4xkeqw71k",
      "include_colab_link": true
    },
    "kernelspec": {
      "name": "python3",
      "display_name": "Python 3"
    },
    "language_info": {
      "name": "python"
    }
  },
  "cells": [
    {
      "cell_type": "markdown",
      "metadata": {
        "id": "view-in-github",
        "colab_type": "text"
      },
      "source": [
        "<a href=\"https://colab.research.google.com/github/NubiaMonteiro/Python/blob/main/Exerc%C3%ADcios/Exerc%C3%ADcios_aula2.ipynb\" target=\"_parent\"><img src=\"https://colab.research.google.com/assets/colab-badge.svg\" alt=\"Open In Colab\"/></a>"
      ]
    },
    {
      "cell_type": "markdown",
      "metadata": {
        "id": "RXY19WWHClza"
      },
      "source": [
        ""
      ]
    },
    {
      "cell_type": "markdown",
      "metadata": {
        "id": "xLQU58LJyAl8"
      },
      "source": [
        "### Exercício\n",
        "Digite as seguintes expressões e/ou declarações no prompt e veja o que elas fazem:\n",
        "* 5\n",
        "* x = 5\n",
        "* x + 1\n",
        "\n",
        "Em seguida, escreva um script com as declarações e compare a saída do script e do prompt. Modifique o script para que as saídas (do script e prompt) sejam iguais."
      ]
    },
    {
      "cell_type": "code",
      "metadata": {
        "colab": {
          "base_uri": "https://localhost:8080/"
        },
        "id": "yzGrmT2sCkpU",
        "outputId": "8f388679-d7ec-4ce4-dc77-6867662533be"
      },
      "source": [
        "5\n",
        "\n",
        "x = 5\n",
        "\n",
        "x + 1"
      ],
      "execution_count": null,
      "outputs": [
        {
          "output_type": "execute_result",
          "data": {
            "text/plain": [
              "6"
            ]
          },
          "metadata": {
            "tags": []
          },
          "execution_count": 1
        }
      ]
    },
    {
      "cell_type": "code",
      "metadata": {
        "colab": {
          "base_uri": "https://localhost:8080/"
        },
        "id": "Ymhr-gzjEHbZ",
        "outputId": "365da0eb-66e3-48c1-9b37-8398194dbe2c"
      },
      "source": [
        "from google.colab import drive\n",
        "drive.mount('/gdrive')\n",
        "%cd /gdrive/"
      ],
      "execution_count": null,
      "outputs": [
        {
          "output_type": "stream",
          "text": [
            "Mounted at /gdrive\n",
            "/gdrive\n"
          ],
          "name": "stdout"
        }
      ]
    },
    {
      "cell_type": "code",
      "metadata": {
        "colab": {
          "base_uri": "https://localhost:8080/"
        },
        "id": "06rn1VNLEKep",
        "outputId": "adedb00a-b026-4c1d-a01e-8e7a55a14374"
      },
      "source": [
        "%cd /gdrive/My Drive/2021.1/\n",
        "# como rodar um script a partir do jupyter notebook\n",
        "%run -i Untitled.ipynb\n"
      ],
      "execution_count": null,
      "outputs": [
        {
          "output_type": "stream",
          "text": [
            "/gdrive/My Drive/2021.1\n"
          ],
          "name": "stdout"
        }
      ]
    },
    {
      "cell_type": "code",
      "metadata": {
        "colab": {
          "base_uri": "https://localhost:8080/"
        },
        "id": "nlXVy165Jzw3",
        "outputId": "37382f1b-849a-4a5a-a5f7-5dc7599d377f"
      },
      "source": [
        "%cd /gdrive/My Drive/2021.1/\n",
        "# como rodar um script a partir do jupyter notebook\n",
        "%run -i Untitledd.ipynb"
      ],
      "execution_count": null,
      "outputs": [
        {
          "output_type": "stream",
          "text": [
            "/gdrive/My Drive/2021.1\n",
            "6\n"
          ],
          "name": "stdout"
        }
      ]
    },
    {
      "cell_type": "markdown",
      "metadata": {
        "id": "Vz8GxGVqyAm5"
      },
      "source": [
        "### Exercício 1:\n",
        "Considere as seguintes declarações de atribuições:\n",
        "   * largura = 17 \n",
        "   * altura = 12.0\n",
        "   * delimitador = \".\"\n",
        "   \n",
        "Para cada uma das expressões a seguir, escreva o valor das expressões e o tipo (do valor da expressão):\n",
        "1. largura/2\n",
        "1. largura/2.0\n",
        "1. altura/3\n",
        "1. 1 + 2 * 5\n",
        "1. delimitador*5\n",
        "\n",
        "Use o interpretador de python para verificar suas respostas.\n"
      ]
    },
    {
      "cell_type": "markdown",
      "metadata": {
        "id": "H6ME3DtXK47u"
      },
      "source": [
        "Resposta:\n",
        "\n",
        "1 \n",
        "* largura = 17 (int)\n",
        "* 2 = (int)\n",
        "* largura/2 = 8.5 (float)\n",
        "\n",
        "2 \n",
        "* largura = 17 (int)\n",
        "* 2.0 = (float)\n",
        "* largura/2.0 = 8.5 (float)\n",
        "\n",
        "3 \n",
        "* altura = 12.0 (float)\n",
        "* 3 = (int)\n",
        "* altura/3 = 4.0 (float)\n",
        "\n",
        "4 \n",
        "* 1 + 2 * 5\n",
        "* Todos os números são int\n",
        "* 1 + 2 * 5 = 11 (int)\n",
        "\n",
        "5 \n",
        "* delimitador * 5\n",
        "* delimitador = \".\" (str)\n",
        "* 5 = (int)\n",
        "* delimitador * 5 = \".....\" (str)"
      ]
    },
    {
      "cell_type": "code",
      "metadata": {
        "colab": {
          "base_uri": "https://localhost:8080/"
        },
        "id": "1JxVa_2ABlPt",
        "outputId": "ca6ff7db-6020-4197-89e5-476f4969d388"
      },
      "source": [
        "#Resposta usando Python\n",
        "\n",
        "largura = 17\n",
        "altura = 12.0\n",
        "delimitador = \".\"\n",
        "\n",
        "print('valor largura =', largura)\n",
        "print('valor altura =', altura)\n",
        "print('valor delimitador =', delimitador)\n",
        "print('valor largura/2 =', largura/2)\n",
        "print('valor largura/2.0 =', largura/2.0)\n",
        "print('valor altura/3 =',altura/3)\n",
        "print('valor 1 + 2 * 5 =', 1 + 2 * 5)\n",
        "print('valor delimitador*5 =', delimitador*5)\n",
        "\n",
        "print('tipo altura =', type(largura))\n",
        "print('tipo largura =', type(altura))\n",
        "print('tipo delimitador =', type(delimitador))\n",
        "print('tipo largura/2 =', type(altura/2))\n",
        "print('tipo largura/2.0 =', type(altura/2.0))\n",
        "print('tipo altura/3 =', type(altura))\n",
        "print('tipo 1 + 2 * 5 =', type(1 + 2 * 5))\n",
        "print('tipo delimitador*5 =', type(delimitador*5))"
      ],
      "execution_count": null,
      "outputs": [
        {
          "output_type": "stream",
          "text": [
            "valor largura = 17\n",
            "valor altura = 12.0\n",
            "valor delimitador = .\n",
            "valor largura/2 = 8.5\n",
            "valor largura/2.0 = 8.5\n",
            "valor altura/3 = 4.0\n",
            "valor 1 + 2 * 5 = 11\n",
            "valor delimitador*5 = .....\n",
            "tipo altura = <class 'int'>\n",
            "tipo largura = <class 'float'>\n",
            "tipo delimitador = <class 'str'>\n",
            "tipo largura/2 = <class 'float'>\n",
            "tipo largura/2.0 = <class 'float'>\n",
            "tipo altura/3 = <class 'float'>\n",
            "tipo 1 + 2 * 5 = <class 'int'>\n",
            "tipo delimitador*5 = <class 'str'>\n"
          ],
          "name": "stdout"
        }
      ]
    },
    {
      "cell_type": "markdown",
      "metadata": {
        "id": "3fcu2Ni1BlfN"
      },
      "source": [
        "\n",
        "\n"
      ]
    },
    {
      "cell_type": "markdown",
      "metadata": {
        "id": "x03Kk6BWB2vN"
      },
      "source": [
        "\n",
        "\n",
        "### Exercício 2:\n",
        "O volume de uma esfera de raio *r* é $\\frac{4}{3} \\pi r^{3}$ \n",
        "\n",
        "Qual é o volume de uma esfera de raio 5?\n"
      ]
    },
    {
      "cell_type": "code",
      "metadata": {
        "id": "lY33UZExBpmt",
        "colab": {
          "base_uri": "https://localhost:8080/"
        },
        "outputId": "bd81c1e3-58e2-44ca-d793-b9c3ff9e4821"
      },
      "source": [
        "import math\n",
        "\n",
        "#Para o raio de 5 cm\n",
        "r = 5\n",
        "\n",
        "#Volume da esfera\n",
        "volume = (4*math.pi*r**3)/3\n",
        "\n",
        "\n",
        "print('O volume da esfera é igual a: %f cm^3' % volume)"
      ],
      "execution_count": 61,
      "outputs": [
        {
          "output_type": "stream",
          "text": [
            "O volume da esfera é igual a: 523.598776 cm^3\n"
          ],
          "name": "stdout"
        }
      ]
    },
    {
      "cell_type": "markdown",
      "metadata": {
        "id": "NFmw1sKMBp5U"
      },
      "source": [
        "Exercício 3:\n",
        "Suponha que o preço de um livro seja 24.95 reais, porém as livrarias têm desconto de 40%. Os custos de envio são de 3.00 reais para o primeiro livro e 0.75 reais para os livros adicionais. Qual é o custo total da compra de 60 livros?"
      ]
    },
    {
      "cell_type": "code",
      "metadata": {
        "id": "3Dlxjks8BsE1",
        "colab": {
          "base_uri": "https://localhost:8080/"
        },
        "outputId": "1f00ab25-a090-4f2d-a23a-58eaab2465c4"
      },
      "source": [
        "#preço do livro com desconto\n",
        "p = 24.95*0.6 \n",
        "print('preço do livro com desconto de 40% =', p, 'reais')\n",
        "\n",
        "#Numero de livros comprados\n",
        "N = 60\n",
        "\n",
        "#função do custo do frete\n",
        "f = 3 + 0.75*(N - 1)\n",
        "\n",
        "#Valor total\n",
        "t = p * N + f \n",
        "print('O valor total da compra de 60 é livros é de =', t, 'reais')\n"
      ],
      "execution_count": 65,
      "outputs": [
        {
          "output_type": "stream",
          "text": [
            "preço do livro com desconto de 40% = 14.969999999999999 reais\n",
            "O valor total da compra de 60 é livros é de = 945.4499999999999 reais\n"
          ],
          "name": "stdout"
        }
      ]
    },
    {
      "cell_type": "markdown",
      "metadata": {
        "id": "bx7Uzke7BsR1"
      },
      "source": [
        "### Exercício 4:\n",
        "Um laser vermelho (com comprimento de onda $\\lambda = 632.8$ nm) incide em uma fenda dupla produzindo um padrão de interferência com franjas claras e escuras, em um anteparo situado a uma distância D = 1.98 m da fenda. Calcule a distância $\\Delta y$ entre dois máximos consecutivos de interferência. Considere o espaçamento entre as fendas, $d$, como sendo igual a 0.250 mm.\n",
        "*Dica: a distância entre dois máximos de interferência consecutivos pode ser aproximada por $\\Delta y = \\frac{\\lambda D}{d}$.*"
      ]
    },
    {
      "cell_type": "code",
      "metadata": {
        "id": "rUA8xaIHBuTU",
        "colab": {
          "base_uri": "https://localhost:8080/"
        },
        "outputId": "ee894615-c7ff-401f-c6fc-b2af46a2037f"
      },
      "source": [
        "#Lambda \n",
        "L = 632.8*(10**(-9)) #metros\n",
        "\n",
        "#Distância entre o anteparo e a fenda\n",
        "D = 1.98 #metros\n",
        "\n",
        "#Espaçamento entre as fendas\n",
        "d = 0.250*(10**(-3)) #metros\n",
        "\n",
        "#distância entre dois máximos de interferência consecutivos\n",
        "deltay = L*D/d\n",
        "\n",
        "print('A distância entre dois máximos de interferência conseguicutivos é :', deltay, 'm')"
      ],
      "execution_count": 69,
      "outputs": [
        {
          "output_type": "stream",
          "text": [
            "A distância entre dois máximos de interferência conseguicutivos é : 0.005011776 m\n"
          ],
          "name": "stdout"
        }
      ]
    }
  ]
}