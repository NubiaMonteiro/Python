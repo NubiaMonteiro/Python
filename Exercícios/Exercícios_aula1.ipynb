{
  "nbformat": 4,
  "nbformat_minor": 0,
  "metadata": {
    "colab": {
      "name": "Exercícios_aula1.ipynb",
      "provenance": [],
      "authorship_tag": "ABX9TyMgWENo4SVfn0Vdk8GhU+5L",
      "include_colab_link": true
    },
    "kernelspec": {
      "name": "python3",
      "display_name": "Python 3"
    },
    "language_info": {
      "name": "python"
    }
  },
  "cells": [
    {
      "cell_type": "markdown",
      "metadata": {
        "id": "view-in-github",
        "colab_type": "text"
      },
      "source": [
        "<a href=\"https://colab.research.google.com/github/NubiaMonteiro/Python/blob/main/Exerc%C3%ADcios/Exerc%C3%ADcios_aula1.ipynb\" target=\"_parent\"><img src=\"https://colab.research.google.com/assets/colab-badge.svg\" alt=\"Open In Colab\"/></a>"
      ]
    },
    {
      "cell_type": "markdown",
      "metadata": {
        "id": "vzzZysCEOxIY"
      },
      "source": [
        "Exercício 1: Se você fizer uma corrida de 10 quilômetros em 43 minutos e 30 segundos, qual será seu tempo médio por milha? Qual é a sua velocidade média em milhas por hora? (Dica: há 1,61 quilômetros em uma milha)."
      ]
    },
    {
      "cell_type": "code",
      "metadata": {
        "colab": {
          "base_uri": "https://localhost:8080/"
        },
        "id": "4Ueb7fOSFfb1",
        "outputId": "33c0433d-6515-4c6f-9684-ef6b793999ea"
      },
      "source": [
        "m = 10/1.61\n",
        "print('Milhas = %02f milhas'% m)\n",
        "\n",
        "t = 43.5/60\n",
        "print('Tempo = %02f horas'% t)\n",
        "\n",
        "tm = (43.5*60)/m\n",
        "print('Tempo médio por milha = %02f segundos/milha'% tm)\n",
        "\n",
        "vm = m/t\n",
        "print('Velocidade média = %02f milhas/hora'% vm)"
      ],
      "execution_count": 62,
      "outputs": [
        {
          "output_type": "stream",
          "text": [
            "Milhas = 6.211180 milhas\n",
            "Tempo = 0.725000 horas\n",
            "Tempo médio por milha = 420.210000 segundos/milha\n",
            "Velocidade média = 8.567145 milhas/hora\n"
          ],
          "name": "stdout"
        }
      ]
    },
    {
      "cell_type": "markdown",
      "metadata": {
        "id": "KDOX_6PzOp7Z"
      },
      "source": [
        "Exercício 2: Desde sua varanda você escuta o som do primeiro fogo artificial do reveillon 3 segundos depois de ver a luz, qual a distância? (o som tem velocidade 343 m/s e a luz %$3\\times 10^8$% m/s). "
      ]
    },
    {
      "cell_type": "code",
      "metadata": {
        "colab": {
          "base_uri": "https://localhost:8080/"
        },
        "id": "Fe6yRapSNFve",
        "outputId": "2f4b5228-94be-43b2-c2f6-91b405f7600f"
      },
      "source": [
        "t = 3\n",
        "vs = 343\n",
        "vl = 3*10**8\n",
        "\n",
        "d = (t/(1/vs - 1/vl)/1000)\n",
        "print('distância = %02f km' % d) \n",
        "\n"
      ],
      "execution_count": 77,
      "outputs": [
        {
          "output_type": "stream",
          "text": [
            "distância = 1.029001 km\n"
          ],
          "name": "stdout"
        }
      ]
    },
    {
      "cell_type": "markdown",
      "metadata": {
        "id": "21CsERAgO7IY"
      },
      "source": [
        "Exercício 3: Ache os zeros da função\n",
        " y = 3 *x^2 - 4 *x -10 "
      ]
    },
    {
      "cell_type": "code",
      "metadata": {
        "colab": {
          "base_uri": "https://localhost:8080/"
        },
        "id": "Sfjenf0YO8Zv",
        "outputId": "b4e66a78-40e4-4d28-c070-1bc3873cfecb"
      },
      "source": [
        "print('A equação é: y = 3*x^2-4*x-10')\n",
        "\n",
        "a=3\n",
        "b=-4\n",
        "c=-10\n",
        "\n",
        "delta = ((b**2)-4*a*c)\n",
        "print('delta =', delta)\n",
        "\n",
        "x1 = (-b + (delta**0.5))/(2*a)\n",
        "x2 = (-b - (delta**0.5))/(2*a)\n",
        "print('as raízes são: x1 =', x1, ' e x2 =', x2)\n"
      ],
      "execution_count": 32,
      "outputs": [
        {
          "output_type": "stream",
          "text": [
            "A equação é: y = 3*x^2-4*x-10\n",
            "delta = 136\n",
            "as raízes são: x1 = 2.610317298281767  e x2 = -1.2769839649484336\n"
          ],
          "name": "stdout"
        }
      ]
    },
    {
      "cell_type": "markdown",
      "metadata": {
        "id": "ySsbW1nRSddp"
      },
      "source": [
        "Exercício 4: Se, ao meiodia, a sombra de um poste de 5 m de altura tem apenas 50 cm de comprimento no chão, qual o ângulo zenital do sol?"
      ]
    },
    {
      "cell_type": "code",
      "metadata": {
        "colab": {
          "base_uri": "https://localhost:8080/"
        },
        "id": "3wi5yEwVSlIm",
        "outputId": "93414e21-3a2c-48d8-a779-0b30293782f3"
      },
      "source": [
        "import math\n",
        "\n",
        "y = 5\n",
        "x = 0.5\n",
        "\n",
        "z = math.sqrt((x**2)+(y**2))\n",
        "print('A hipotenusa é = %02f' % z)\n",
        "s = math.sin(x/z)\n",
        "\n",
        "a = math.asin(s)\n",
        "print('O ângulo zenital é = %02f rad' % a)"
      ],
      "execution_count": 87,
      "outputs": [
        {
          "output_type": "stream",
          "text": [
            "A hipotenusa é = 5.024938\n",
            "O ângulo zenital é = 0.099504 rad\n"
          ],
          "name": "stdout"
        }
      ]
    },
    {
      "cell_type": "markdown",
      "metadata": {
        "id": "_Bg8IyLBb9Ua"
      },
      "source": [
        "Exercício 5: Calcule o seu IMC: IMC = M / A^2 (com a massa em Kg e a altura em metros). Um valor saudável estara --em geral-- entre 20-25. Um bebê de 6 meses \"gorducho\" tem 70 cm de \"comprimento\" e 11 kg de massa, qual o IMC dele?"
      ]
    },
    {
      "cell_type": "code",
      "metadata": {
        "colab": {
          "base_uri": "https://localhost:8080/"
        },
        "id": "g5VuBlevc9EE",
        "outputId": "adfc409d-dc3c-472e-f3e2-45cb118ca9af"
      },
      "source": [
        "MeuIMC = 63/(1.75**2)\n",
        "print('Meu IMC é =', MeuIMC)\n",
        "\n",
        "IMCbb = 11/(0.7**2)\n",
        "print('O IMC do bebê é =', IMCbb)"
      ],
      "execution_count": 67,
      "outputs": [
        {
          "output_type": "stream",
          "text": [
            "Meu IMC é = 20.571428571428573\n",
            "O IMC do bebê é = 22.44897959183674\n"
          ],
          "name": "stdout"
        }
      ]
    },
    {
      "cell_type": "markdown",
      "metadata": {
        "id": "ClnfT1MAd-iT"
      },
      "source": [
        "Exercício 6: Calcule a velocidade final de um objeto em queda livre a partir de 3 metros de altura (sem resistencia do ar). Calcule o tempo que esse objeto demora para cair."
      ]
    },
    {
      "cell_type": "code",
      "metadata": {
        "colab": {
          "base_uri": "https://localhost:8080/"
        },
        "id": "JZHmVR3eeF6U",
        "outputId": "e96d91fe-4314-4aa2-942c-1dca6d7feaa6"
      },
      "source": [
        "import math\n",
        "v0 = 0\n",
        "s = 3\n",
        "s0 = 0\n",
        "g = 9.8\n",
        "\n",
        "'s = s0 + v0*t + (g*(t**2))/2'\n",
        "t = math.sqrt((s*2)/g)\n",
        "\n",
        "v = v0 + g*t\n",
        "\n",
        "print('A velocidade final = %02f m/s' % v)\n",
        "print('Tempo de queda = %02f s' % t)"
      ],
      "execution_count": 70,
      "outputs": [
        {
          "output_type": "stream",
          "text": [
            "A velocidade final = 7.668116 m/s\n",
            "Tempo de queda = 0.782461 s\n"
          ],
          "name": "stdout"
        }
      ]
    }
  ]
}