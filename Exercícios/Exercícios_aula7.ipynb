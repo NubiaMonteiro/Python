{
  "nbformat": 4,
  "nbformat_minor": 0,
  "metadata": {
    "colab": {
      "name": "Exercícios_aula7.ipynb",
      "provenance": [],
      "collapsed_sections": [],
      "authorship_tag": "ABX9TyOw4RG0VjQI6gxXYOmRbMiq",
      "include_colab_link": true
    },
    "kernelspec": {
      "name": "python3",
      "display_name": "Python 3"
    },
    "language_info": {
      "name": "python"
    }
  },
  "cells": [
    {
      "cell_type": "markdown",
      "metadata": {
        "id": "view-in-github",
        "colab_type": "text"
      },
      "source": [
        "<a href=\"https://colab.research.google.com/github/NubiaMonteiro/Python/blob/main/Exerc%C3%ADcios/Exerc%C3%ADcios_aula7.ipynb\" target=\"_parent\"><img src=\"https://colab.research.google.com/assets/colab-badge.svg\" alt=\"Open In Colab\"/></a>"
      ]
    },
    {
      "cell_type": "markdown",
      "metadata": {
        "id": "U2tkk_XjsY56"
      },
      "source": [
        "## Exercícios Parte 1\n",
        "\n",
        "1) A **conjectura de Collatz**, diz que \"Todos os inteiros positivos irão eventualmente convergir para 1 usando as regras do Collatz\". Faça um programa que ___verifique___ a conjectura de Collatz para alguns valores. As regras de Collatz são: \n",
        "\n",
        "Dado um número ***n***: \n",
        "   * se ***n*** for par, divida-o por ***2***;\n",
        "   * se ***n*** for ímpar, atualize-o para 3*n + 1;\n",
        "   * repetir até chegar ao valor 1."
      ]
    },
    {
      "cell_type": "code",
      "metadata": {
        "colab": {
          "base_uri": "https://localhost:8080/"
        },
        "id": "ZGCoIFpSsYb4",
        "outputId": "dd239150-c650-4718-b694-1462163c8aec"
      },
      "source": [
        "#Conjectura de collartz\n",
        "def collatz(n):\n",
        "  print(n)\n",
        "  while n != 1:\n",
        "    if n % 2 == 0:\n",
        "      n = n/2\n",
        "      print(n)\n",
        "   \n",
        "    else:\n",
        "      n = 3*n+1\n",
        "      print(n)\n",
        "\n",
        "collatz(3)\n",
        "\n",
        "  "
      ],
      "execution_count": null,
      "outputs": [
        {
          "output_type": "stream",
          "name": "stdout",
          "text": [
            "3\n",
            "10\n",
            "5.0\n",
            "16.0\n",
            "8.0\n",
            "4.0\n",
            "2.0\n",
            "1.0\n"
          ]
        }
      ]
    },
    {
      "cell_type": "markdown",
      "metadata": {
        "id": "eGoeUlNFscOW"
      },
      "source": [
        "2) Modifique a função ```counter``` para contar o número de vezes que os dígitos 0 e 5 aparecem em um dado número n. Por exemplo, n = 10568, tem 2 dígitos 0 ou 5. "
      ]
    },
    {
      "cell_type": "code",
      "metadata": {
        "id": "PjBESaLE35fj",
        "colab": {
          "base_uri": "https://localhost:8080/"
        },
        "outputId": "85c02670-bed8-47a0-b6e6-e75629e7dfdc"
      },
      "source": [
        "def counter(n):\n",
        "    count = 0\n",
        "    while n > 0:\n",
        "        digito = n % 10\n",
        "        if digito == 0 or digito == 5:\n",
        "            count = count + 1\n",
        "        n = n // 10         # divisão de inteiros\n",
        "    return count\n",
        "\n",
        "counter(10568)"
      ],
      "execution_count": 67,
      "outputs": [
        {
          "output_type": "execute_result",
          "data": {
            "text/plain": [
              "2"
            ]
          },
          "metadata": {},
          "execution_count": 67
        }
      ]
    },
    {
      "cell_type": "markdown",
      "metadata": {
        "id": "sW4AWklQsg8_"
      },
      "source": [
        "3) Encapsule e generalize a seguinte declaração:\n",
        "\n",
        "\n",
        "\n",
        "```python\n",
        "for i in [12, 16, 17, 24, 29]:\n",
        "    if i % 2 == 1:  # If the number is odd\n",
        "       break        #  ... immediately exit the loop\n",
        "    print(i)\n",
        "print(\"done\")\n",
        "```\n"
      ]
    },
    {
      "cell_type": "code",
      "metadata": {
        "id": "DMGmcd1Qsk9r",
        "colab": {
          "base_uri": "https://localhost:8080/"
        },
        "outputId": "8ce14cd4-12f8-4eb7-ac68-cfe7effa758f"
      },
      "source": [
        "def encapsule(n): #Encapsulei em uma função e generalizei para uma lista qualquer\n",
        "  for i in n:\n",
        "    if i % 2 == 1:  # If the number is odd\n",
        "       break        #  ... immediately exit the loop\n",
        "    print(i)\n",
        "  print(\"done\")\n",
        "\n",
        "encapsule([10, 30, 27, 7, 9])\n"
      ],
      "execution_count": 70,
      "outputs": [
        {
          "output_type": "stream",
          "name": "stdout",
          "text": [
            "10\n",
            "30\n",
            "done\n"
          ]
        }
      ]
    },
    {
      "cell_type": "markdown",
      "metadata": {
        "id": "d2OHmBvaIELq"
      },
      "source": [
        "4) **O método de Newton para raiz quadrada**. Suponha que você queira calcular a raiz quadrada de ***n***. Se você começar com quase qualquer aproximação, poderá calcular uma aproximação melhor (mais próxima da resposta real) com a seguinte fórmula: melhor = (approx + n/approx)/2\n",
        "\n",
        "Usando um _loop_ e repetindo esta fórmula até que a melhor aproximação se aproxime o suficiente da anterior (este \"suficiente\" é arbitrario: podemos considerar uma diferença de 0,001), escreva uma função para calcular a raiz quadrada utilizando o método de Newton.\n",
        "\n",
        "Esse é um exemplo de repetição **indefinida**. Com qual tipo de loop você deve escrever o seu programa?"
      ]
    },
    {
      "cell_type": "code",
      "metadata": {
        "colab": {
          "base_uri": "https://localhost:8080/"
        },
        "id": "A6C-zxjIIJLf",
        "outputId": "78617bba-2d19-496d-e965-939c3f9a49f0"
      },
      "source": [
        "def sqrt(n):\n",
        "  approx = n/2\n",
        "  while True:                           #Loop while para repetição indefinida\n",
        "    melhor = (approx + n / approx)/2\n",
        "    if abs(approx - melhor) < 0.001:\n",
        "            return melhor\n",
        "    approx = melhor  \n",
        "\n",
        "print(sqrt(25))\n",
        "print(sqrt(4))\n",
        "print(sqrt(121))"
      ],
      "execution_count": 75,
      "outputs": [
        {
          "output_type": "stream",
          "name": "stdout",
          "text": [
            "5.000000000016778\n",
            "2.0\n",
            "11.000000001323027\n"
          ]
        }
      ]
    },
    {
      "cell_type": "markdown",
      "metadata": {
        "id": "pzIW9HzDUORD"
      },
      "source": [
        "## Exercícios Parte 2\n",
        "https://penseallen.github.io/PensePython2e/05-cond-recur.html\n",
        "\n",
        "1) O módulo time fornece uma função, também chamada time, que devolve a Hora Média de Greenwich na “época”, que é um momento arbitrário usado como ponto de referência. Em sistemas UNIX, a época é primeiro de janeiro de 1970."
      ]
    },
    {
      "cell_type": "code",
      "metadata": {
        "id": "sUs0rHtSUN0J"
      },
      "source": [
        "import time\n",
        "time.time()"
      ],
      "execution_count": null,
      "outputs": []
    },
    {
      "cell_type": "markdown",
      "metadata": {
        "id": "fSKAv_1ZVvzI"
      },
      "source": [
        "Escreva um script que leia a hora atual e a converta em um tempo em horas, minutos e segundos, mais o número de dias desde a época."
      ]
    },
    {
      "cell_type": "code",
      "metadata": {
        "colab": {
          "base_uri": "https://localhost:8080/"
        },
        "id": "S2DGer04Vy2o",
        "outputId": "34449561-9030-4423-ae41-5a0e7d32b2f1"
      },
      "source": [
        "import time\n",
        "\n",
        "def hora(t):\n",
        "\thora = t / 3600\n",
        "\tprint(\"O número de horas passados desde a época é: %f\" % hora)\n",
        "\n",
        "def minuto(t):\n",
        "\tminuto = t / 60\n",
        "\tprint(\"O número de minutos passados desde a época é: %f\" % minuto)\n",
        "\t\n",
        "def segundos(t):\n",
        "\tsegundos = t\n",
        "\tprint(\"O número de segundos passados desde a época é: %f\" % segundos)\n",
        "\t\n",
        "def num_dia():\n",
        "\tsec = time.time()\n",
        "\tnum_dia = sec / (60*60*24)\n",
        "\tprint(\"O número de dias que se passaram desde a época: %f\" % num_dia)\n",
        "\n",
        "num_dia()\n",
        "hora(time.time())\n",
        "minuto(time.time())\n",
        "segundos(time.time())"
      ],
      "execution_count": 2,
      "outputs": [
        {
          "output_type": "stream",
          "name": "stdout",
          "text": [
            "O número de dias que se passaram desde a época: 18880.164622\n",
            "O número de horas passados desde a época é: 453123.950923\n",
            "O número de minutos passados desde a época é: 27187437.055394\n",
            "O número de segundos passados desde a época é: 1631246223.323960\n"
          ]
        }
      ]
    },
    {
      "cell_type": "markdown",
      "metadata": {
        "id": "4SE3nh-zVzNX"
      },
      "source": [
        "2) O último teorema de Fermat diz que não existem números inteiros a, b e c tais que `a**n + b**n == c**n` para quaisquer valores de n maiores que 2.\n",
        "   1. Escreva uma função chamada `check_fermat` que receba quatro parâmetros – a, b, c e n – e verifique se o teorema de Fermat se mantém. Se n for maior que 2 e `a**n + b**n == c**n` o programa deve imprimir, “Holy smokes, Fermat was wrong!” Senão o programa deve exibir “No, that doesn’t work.”\n",
        "\n",
        "   1. Escreva uma função que peça ao usuário para digitar valores para a, b, c e n, os converta em números inteiros e use `check_fermat` para verificar se violam o teorema de Fermat."
      ]
    },
    {
      "cell_type": "code",
      "metadata": {
        "colab": {
          "base_uri": "https://localhost:8080/"
        },
        "id": "IaSNZ1Tf4R00",
        "outputId": "d77a53ad-c648-40a7-fcd2-dd0784ceb4b0"
      },
      "source": [
        "#Parte 1\n",
        "def check_fermat(a, b, c, n):\n",
        "  if a**n + b**n == c**n and n>2:\n",
        "    print(\"Holy smokes, Fermat was wrong!\")\n",
        "  else:\n",
        "    print(\"No, that doesn't work\")\n",
        "\n",
        "check_fermat(2, 1, 3, 4)"
      ],
      "execution_count": 8,
      "outputs": [
        {
          "output_type": "stream",
          "name": "stdout",
          "text": [
            "No, that doesn't work\n"
          ]
        }
      ]
    },
    {
      "cell_type": "code",
      "metadata": {
        "colab": {
          "base_uri": "https://localhost:8080/"
        },
        "id": "k-v2y1c6V3R7",
        "outputId": "0458f463-08b6-49f1-acb9-12db16e2d1d9"
      },
      "source": [
        "#Parte 2\n",
        "a = int(input('coloque o valor de a:'))\n",
        "b = int(input('coloque o valor de b:'))\n",
        "c = int(input('coloque o valor de c:'))\n",
        "d = int(input('coloque o valor de n:'))\n",
        "\n",
        "def check_fermat(a, b, c, n):\n",
        "  if a**n + b**n == c**n and n > 2:\n",
        "    print(\"Holy smokes, Fermat was wrong!\")\n",
        "  else:\n",
        "    print(\"No, that doesn't work\")\n",
        "\n",
        "check_fermat(a, b, c, d)"
      ],
      "execution_count": 10,
      "outputs": [
        {
          "output_type": "stream",
          "name": "stdout",
          "text": [
            "coloque o valor de a:2\n",
            "coloque o valor de b:4\n",
            "coloque o valor de c:2\n",
            "coloque o valor de n:1\n",
            "No, that doesn't work\n"
          ]
        }
      ]
    },
    {
      "cell_type": "markdown",
      "metadata": {
        "id": "WDEzWdCjV4Tg"
      },
      "source": [
        "3) Há um teste simples para ver se é possível formar um triângulo para quaisquer três comprimentos: Se algum dos três comprimentos for maior que a soma dos outros dois, então você não pode formar um triângulo. Senão, você pode. (Se a soma de dois comprimentos igualar o terceiro, eles formam um triângulo chamado “degenerado”.)\n",
        "   1. Escreva uma função chamada `is_triangle` que receba três números inteiros como argumentos, e que imprima “Yes” ou “No”, dependendo da possibilidade de formar ou não um triângulo de gravetos com os comprimentos dados.\n",
        "   1. Escreva uma função que peça ao usuário para digitar três comprimentos de gravetos, os converta em números inteiros e use `is_triangle` para verificar se os gravetos com os comprimentos dados podem formar um triângulo."
      ]
    },
    {
      "cell_type": "code",
      "metadata": {
        "colab": {
          "base_uri": "https://localhost:8080/"
        },
        "id": "Ds-O8Ic-V7Ty",
        "outputId": "ad8beee5-ae6a-47a3-c987-0644ec838e37"
      },
      "source": [
        "#Parte 1\n",
        "def is_triangle(x, y, z):\n",
        "  if x > y+z or y > x+z or z > x+y:\n",
        "    print(\"No\")\n",
        "  elif x == y+z or y == x+z or z == x+y:\n",
        "    print(\"Degenerado\")\n",
        "  else:\n",
        "    print(\"Yes\")\n",
        "\n",
        "is_triangle(2, 4, 3)"
      ],
      "execution_count": 15,
      "outputs": [
        {
          "output_type": "stream",
          "name": "stdout",
          "text": [
            "Yes\n"
          ]
        }
      ]
    },
    {
      "cell_type": "code",
      "metadata": {
        "colab": {
          "base_uri": "https://localhost:8080/"
        },
        "id": "fpgfJYH46waB",
        "outputId": "0cc8df61-846f-4225-f11e-82542f7f0a7d"
      },
      "source": [
        "#Parte 2\n",
        "x = int(input(\"Coloque o comprimento do primeiro graveto:\"))\n",
        "y = int(input(\"Coloque o comprimento do segundo graveto:\"))\n",
        "z = int(input(\"Coloque o comprimento do terceiro graveto:\"))\n",
        "\n",
        "is_triangle(x, y, z)"
      ],
      "execution_count": 16,
      "outputs": [
        {
          "output_type": "stream",
          "name": "stdout",
          "text": [
            "Coloque o comprimento do primeiro graveto:2\n",
            "Coloque o comprimento do segundo graveto:4\n",
            "Coloque o comprimento do terceiro graveto:3\n",
            "Yes\n"
          ]
        }
      ]
    },
    {
      "cell_type": "markdown",
      "metadata": {
        "id": "tnIfO-G9V7so"
      },
      "source": [
        "4) Leia a próxima função e veja se consegue compreender o que ela faz (veja os exemplos no Capítulo 4). Então execute-a e veja se acertou."
      ]
    },
    {
      "cell_type": "code",
      "metadata": {
        "id": "L1Bz1BVMV_aj"
      },
      "source": [
        "def draw(t, length, n):\n",
        "    '''\n",
        "    t: turtle ou ColabTurtle\n",
        "    length: comprimento da linha\n",
        "    n: número de iterações. deve ser maior que zero.\n",
        "    '''\n",
        "    if n == 0:\n",
        "        return\n",
        "    angle = 50\n",
        "    t.forward(length * n)\n",
        "    t.left(angle)\n",
        "    draw(t, length, n-1)\n",
        "    t.right(2 * angle)\n",
        "    draw(t, length, n-1)\n",
        "    t.left(angle)\n",
        "    t.backward(length * n)"
      ],
      "execution_count": null,
      "outputs": []
    },
    {
      "cell_type": "markdown",
      "metadata": {
        "id": "XcbYLkxt8vr3"
      },
      "source": [
        "Resposta: Não consegui prever como ela funcionaria\n"
      ]
    },
    {
      "cell_type": "markdown",
      "metadata": {
        "id": "KFznTkkuWDdQ"
      },
      "source": [
        "5) A curva de Koch é um fractal que parece com o da Figura abaixo. \n",
        "![](https://github.com/PenseAllen/PensePython2e/raw/master/fig/tnkp_0502.png)\n",
        "\n",
        "Para desenhar uma curva de Koch com o comprimento x, tudo o que você tem que fazer é:\n",
        "\n",
        "1. Desenhe uma curva de Koch com o comprimento x/3.\n",
        "\n",
        "1. Vire 60 graus à esquerda.\n",
        "\n",
        "1. Desenhe uma curva de Koch com o comprimento x/3.\n",
        "\n",
        "1. Vire 120 graus à direita.\n",
        "\n",
        "1. Desenhe uma curva de Koch com o comprimento x/3.\n",
        "\n",
        "1. Vire 60 graus à esquerda.\n",
        "\n",
        "1. Desenhe uma curva de Koch com o comprimento x/3.\n",
        "\n",
        "\n",
        "A exceção é se x for menor que 3: neste caso, você pode desenhar apenas uma linha reta com o comprimento x.\n",
        "\n",
        "1. Escreva uma função chamada `koch` que receba um `turtle` (usar [trinket](https://trinket.io/turtle)) e um comprimento como parâmetros, e use o `turtle` para desenhar uma curva de Koch com o comprimento dado.\n",
        "\n",
        "1. Escreva uma função chamada `snowflake` que desenhe três curvas de Koch para fazer o traçado de um floco de neve.\n",
        "\n",
        "1. A curva de Koch pode ser generalizada de vários modos. Veja exemplos em http://en.wikipedia.org/wiki/Koch_snowflake e implemente o seu favorito."
      ]
    },
    {
      "cell_type": "code",
      "metadata": {
        "id": "14akUIimWIO8"
      },
      "source": [
        "#Parte 1\n",
        "import turtle \n",
        "\n",
        "joana = turtle.Turtle( )\n",
        "\n",
        "def koch(t, x):\n",
        "  if x > 3:\n",
        "    koch(t, x/3)\n",
        "    t.lt(60)\n",
        "    koch(t, x/3)\n",
        "    t.rt(120)\n",
        "    koch(t, x/3)\n",
        "    t.lt(60)\n",
        "    koch(t, x/3)\n",
        "  else:\n",
        "\t\tt.fd(x)\n",
        "\t\t\n",
        "koch(joana, 50)\n"
      ],
      "execution_count": null,
      "outputs": []
    },
    {
      "cell_type": "code",
      "metadata": {
        "id": "8fUQGBMpAqV6"
      },
      "source": [
        "#Parte 2\n",
        "import turtle \n",
        "\n",
        "joana = turtle.Turtle( )\n",
        "\n",
        "def koch(t, x):\n",
        "  if x > 3:\n",
        "    koch(t, x/3)\n",
        "    t.lt(60)\n",
        "    koch(t, x/3)\n",
        "    t.rt(120)\n",
        "    koch(t, x/3)\n",
        "    t.lt(60)\n",
        "    koch(t, x/3)\n",
        "  else:\n",
        "\t\tt.fd(x)\n",
        "\t\t\n",
        "def snowflake(t, x):\n",
        "  koch(t, x)\n",
        "  t.rt(120)\n",
        "  koch(t, x)\n",
        "  t.rt(120)\n",
        "  koch(t, x)\n",
        "  \n",
        "snowflake(joana, 50)"
      ],
      "execution_count": null,
      "outputs": []
    },
    {
      "cell_type": "code",
      "metadata": {
        "id": "7sMgv4DsBjhu"
      },
      "source": [
        "#Parte 3 \n",
        "import turtle \n",
        "\n",
        "joana = turtle.Turtle( )\n",
        "\n",
        "def koch(t, x):\n",
        "  if x > 3:\n",
        "    koch(t, x/3)\n",
        "    t.lt(60)\n",
        "    koch(t, x/3)\n",
        "    t.rt(120)\n",
        "    koch(t, x/3)\n",
        "    t.lt(60)\n",
        "    koch(t, x/3)\n",
        "  else:\n",
        "\t\tt.fd(x)\n",
        "\t\t\n",
        "def koch_dif(t, x):\n",
        "  for i in range(4):\n",
        "    koch(t, x)\n",
        "    t.left(90)\n",
        "    koch(t, x)\n",
        "    t.rt(180)\n",
        "\n",
        "koch_dif(joana, 50)\n",
        "\n",
        "joana.hideturtle()"
      ],
      "execution_count": null,
      "outputs": []
    },
    {
      "cell_type": "markdown",
      "metadata": {
        "id": "gvrSghp3GYB4"
      },
      "source": [
        "Fiz uma figura tipo \"quadratic cross\".\n",
        "\n",
        "![quadratic_cross.png](data:image/png;base64,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)"
      ]
    }
  ]
}