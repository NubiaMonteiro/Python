{
  "nbformat": 4,
  "nbformat_minor": 0,
  "metadata": {
    "colab": {
      "name": "Exercícios_aula4.ipynb",
      "provenance": [],
      "authorship_tag": "ABX9TyM45gNtmmErY39JWgtW9ItH",
      "include_colab_link": true
    },
    "kernelspec": {
      "name": "python3",
      "display_name": "Python 3"
    },
    "language_info": {
      "name": "python"
    }
  },
  "cells": [
    {
      "cell_type": "markdown",
      "metadata": {
        "id": "view-in-github",
        "colab_type": "text"
      },
      "source": [
        "<a href=\"https://colab.research.google.com/github/NubiaMonteiro/Python/blob/main/Exerc%C3%ADcios/Exerc%C3%ADcios_aula4.ipynb\" target=\"_parent\"><img src=\"https://colab.research.google.com/assets/colab-badge.svg\" alt=\"Open In Colab\"/></a>"
      ]
    },
    {
      "cell_type": "markdown",
      "metadata": {
        "id": "UA0i9yMswI-S"
      },
      "source": [
        "**Exercícios:**\n",
        "\n",
        "---\n",
        "\n",
        "1. Escreva uma função com um valor de retorno que:\n",
        "\n",
        "*   tome como input dois argumentos;\n",
        "*   execute a soma dos dois parâmetros que foram passados como argumento e atribua o resultado a uma variável;\n",
        "*   tenha como valor de retorno o dobro da soma dos dois parâmetros.\n",
        "\n"
      ]
    },
    {
      "cell_type": "code",
      "metadata": {
        "colab": {
          "base_uri": "https://localhost:8080/"
        },
        "id": "kNCbauiQvmts",
        "outputId": "ebea0784-712c-4760-d2d3-7e9307ba5224"
      },
      "source": [
        "def f(x,y):     #Função com dois argumentos\n",
        "  z=x+y         #soma dos dois parâmetros \n",
        "  v=2*z         #dobro da soma do dois parâmetros\n",
        "  print(v)      #valor de retorno\n",
        "\n",
        "f(2,3)"
      ],
      "execution_count": 1,
      "outputs": [
        {
          "output_type": "stream",
          "text": [
            "10\n"
          ],
          "name": "stdout"
        }
      ]
    },
    {
      "cell_type": "markdown",
      "metadata": {
        "id": "pEZKqRmxwtgw"
      },
      "source": [
        "2 Um objeto de função é um valor que você pode atribuir a uma variável ou passar como um argumento. Por exemplo, do_twice é uma função que usa um objeto de função como argumento e o chama duas vezes:"
      ]
    },
    {
      "cell_type": "code",
      "metadata": {
        "id": "7fQYZFEIw0gf"
      },
      "source": [
        "#def do_twice(f):\n",
        "  f ()\n",
        "  f ()"
      ],
      "execution_count": 2,
      "outputs": []
    },
    {
      "cell_type": "markdown",
      "metadata": {
        "id": "9d1jutlaxBcX"
      },
      "source": [
        "Aqui está um exemplo que usa do_twice para chamar uma função chamada print_spam duas vezes."
      ]
    },
    {
      "cell_type": "code",
      "metadata": {
        "id": "M1MaOM2dxFse"
      },
      "source": [
        "def print_spam():\n",
        "  print('spam')\n",
        "  do_twice(print_spam)"
      ],
      "execution_count": 4,
      "outputs": []
    },
    {
      "cell_type": "markdown",
      "metadata": {
        "id": "qGNInT_IxRWf"
      },
      "source": [
        "Para este exercício :\n",
        "\n",
        "a. Digite este exemplo em um script e teste-o.\n",
        "\n",
        "b. Modifique do_twice para que sejam necessários dois argumentos, um objeto de função f e um valor x, e chame a função duas vezes, passando o valor como um argumento.\n",
        "\n",
        "c. Escreva uma versão mais geral de print_spam, chamada print_twice, que use uma string como parâmetro e imprima duas vezes.\n",
        "\n",
        "d. Use a versão modificada (no item b) de do_twice para chamar print_twice duas vezes, passando 'spam' como um argumento.\n",
        "\n",
        "e. Defina uma nova função chamada do_four que recebe um objeto de função e um valor e chama a função quatro vezes, passando o valor como um parâmetro. Deve haver apenas duas declarações no corpo desta função, e não quatro.\n",
        "\n",
        "Esta aula foi tomada quase íntegramente do livro ThinkPython, capítulo 3 http://greenteapress.com/thinkpython/html/thinkpython004.html"
      ]
    },
    {
      "cell_type": "code",
      "metadata": {
        "colab": {
          "base_uri": "https://localhost:8080/"
        },
        "id": "gVRDz2EqxWc_",
        "outputId": "19e61f67-5166-4a3b-ee2a-7489885ec5da"
      },
      "source": [
        "#a)\n",
        "def do_twice(f):\n",
        "  f ()\n",
        "  f ()\n",
        "\n",
        "def print_spam():\n",
        "  print('spam')\n",
        "  \n",
        "do_twice(print_spam)"
      ],
      "execution_count": 7,
      "outputs": [
        {
          "output_type": "stream",
          "text": [
            "spam\n",
            "spam\n"
          ],
          "name": "stdout"
        }
      ]
    },
    {
      "cell_type": "code",
      "metadata": {
        "colab": {
          "base_uri": "https://localhost:8080/"
        },
        "id": "5WmS0Y0R0hoa",
        "outputId": "add6dc11-176e-46f8-950a-891789600286"
      },
      "source": [
        "#b) \n",
        "def do_twice2(f, x):\n",
        "  f (x)\n",
        "  f (x)\n",
        "\n",
        "do_twice2(print, print_spam)"
      ],
      "execution_count": 19,
      "outputs": [
        {
          "output_type": "stream",
          "text": [
            "<function print_spam at 0x7f81fdcd8320>\n",
            "<function print_spam at 0x7f81fdcd8320>\n"
          ],
          "name": "stdout"
        }
      ]
    },
    {
      "cell_type": "code",
      "metadata": {
        "colab": {
          "base_uri": "https://localhost:8080/"
        },
        "id": "xzMqAvfl4QEz",
        "outputId": "1c2cb46a-3004-4d5d-fe3b-74207d36248c"
      },
      "source": [
        "#c)\n",
        "def print_twice(s):\n",
        "  print(s)\n",
        "  print(s)\n",
        "\n",
        "print_twice('spam')\n"
      ],
      "execution_count": 22,
      "outputs": [
        {
          "output_type": "stream",
          "text": [
            "spam\n",
            "spam\n"
          ],
          "name": "stdout"
        }
      ]
    },
    {
      "cell_type": "code",
      "metadata": {
        "colab": {
          "base_uri": "https://localhost:8080/",
          "height": 197
        },
        "id": "jnxAyA0q447x",
        "outputId": "be54bae6-053a-4c4f-e571-6638c8d2d177"
      },
      "source": [
        "#d)\n",
        " \n",
        "do_twice2(print_twice, spam)"
      ],
      "execution_count": 21,
      "outputs": [
        {
          "output_type": "error",
          "ename": "NameError",
          "evalue": "ignored",
          "traceback": [
            "\u001b[0;31m---------------------------------------------------------------------------\u001b[0m",
            "\u001b[0;31mNameError\u001b[0m                                 Traceback (most recent call last)",
            "\u001b[0;32m<ipython-input-21-055a7fa81912>\u001b[0m in \u001b[0;36m<module>\u001b[0;34m()\u001b[0m\n\u001b[1;32m      1\u001b[0m \u001b[0;31m#d)\u001b[0m\u001b[0;34m\u001b[0m\u001b[0;34m\u001b[0m\u001b[0;34m\u001b[0m\u001b[0m\n\u001b[1;32m      2\u001b[0m \u001b[0;34m\u001b[0m\u001b[0m\n\u001b[0;32m----> 3\u001b[0;31m \u001b[0mdo_twice2\u001b[0m\u001b[0;34m(\u001b[0m\u001b[0mprint_twice\u001b[0m\u001b[0;34m,\u001b[0m \u001b[0mspam\u001b[0m\u001b[0;34m)\u001b[0m\u001b[0;34m\u001b[0m\u001b[0;34m\u001b[0m\u001b[0m\n\u001b[0m",
            "\u001b[0;31mNameError\u001b[0m: name 'spam' is not defined"
          ]
        }
      ]
    }
  ]
}